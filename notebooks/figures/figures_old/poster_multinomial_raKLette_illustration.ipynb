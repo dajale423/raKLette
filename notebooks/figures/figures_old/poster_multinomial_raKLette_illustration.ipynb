{
 "cells": [
  {
   "cell_type": "code",
   "execution_count": 1,
   "id": "4f13174e",
   "metadata": {},
   "outputs": [],
   "source": [
    "import os\n",
    "import dask.dataframe as dd\n",
    "from dask.distributed import Client\n",
    "import pandas as pd\n",
    "\n",
    "import seaborn as sns\n",
    "import matplotlib.pyplot as plt\n",
    "\n",
    "pd.set_option('display.max_columns', None)\n",
    "\n",
    "import sys\n",
    "sys.path.insert(0, '/home/djl34/lab_pd/kl/git/KL/scripts')\n",
    "import post_analysis\n",
    "\n",
    "pd_data_dir = \"/home/djl34/lab_pd/data\"\n",
    "aso_data_dir = \"/home/djl34/lab_pd/aso/data\"\n",
    "KL_data_dir = \"/home/djl34/lab_pd/kl/data\"\n",
    "scratch_dir = \"/n/scratch3/users/d/djl34\""
   ]
  },
  {
   "cell_type": "code",
   "execution_count": 2,
   "id": "3bef2f0d",
   "metadata": {},
   "outputs": [],
   "source": [
    "## get neutral SFS\n",
    "## get selected SFS\n",
    "## plot both\n",
    "## show difference as betas\n",
    "\n",
    "neutral_sfs = os.path.join(KL_data_dir, \"whole_genome/allele_freq/adaptive_bins/all.tsv\")\n",
    "nonsense = os.path.join(scratch_dir, \"kl_input/\" +  \"single_feature/nonsense/nonsense_shet_0.1_cutoff_chr_0.tsv\")\n",
    "\n",
    "neutral = pd.read_csv(neutral_sfs, sep = \"\\t\")\n",
    "neutral = neutral.drop([\"mu\", \"sum\"], axis = 1)\n",
    "\n",
    "nonsense = pd.read_csv(nonsense, sep = \"\\t\")\n"
   ]
  },
  {
   "cell_type": "code",
   "execution_count": 3,
   "id": "6434f562",
   "metadata": {},
   "outputs": [],
   "source": [
    "# mu_index = 10\n",
    "# nonsense_mu = nonsense.copy()\n",
    "nonsense_mu_value_counts = pd.DataFrame(nonsense[\"mu_index\"].value_counts())\n",
    "# nonsense_mu = nonsense[nonsense[\"mu_index\"] == mu_index]\n",
    "\n",
    "nonsense_valuecounts = pd.DataFrame(nonsense.value_counts(\"Freq_bin\")).reset_index()\n",
    "\n",
    "# neutral_prob = pd.DataFrame(neutral.iloc[mu_index])\n",
    "\n",
    "nonsense_mu_value_counts = nonsense_mu_value_counts.join(neutral, how = \"left\")\n",
    "\n",
    "nonsense_mu_prob = nonsense_mu_value_counts.mul(nonsense_mu_value_counts['mu_index'], axis=0)\n",
    "\n",
    "nonsense_mu_prob = nonsense_mu_prob.drop(\"mu_index\", axis = 1)\n",
    "\n",
    "neutral_prob = pd.DataFrame(nonsense_mu_prob.sum(axis = 0) / nonsense_mu_value_counts[\"mu_index\"].sum()).reset_index()\n",
    "\n",
    "nonsense_valuecounts[\"prob\"] = nonsense_valuecounts[0]/nonsense_valuecounts[0].sum()\n",
    "\n",
    "neutral_prob = neutral_prob.rename({'index': 'Freq_bin', 0: 'Neutral sites'}, axis = 1)\n",
    "\n",
    "nonsense_valuecounts = nonsense_valuecounts.rename({\"prob\": \"Nonsense sites\"}, axis = 1)"
   ]
  },
  {
   "cell_type": "code",
   "execution_count": 4,
   "id": "8cda4601",
   "metadata": {},
   "outputs": [],
   "source": [
    "neutral_prob[\"Freq_bin\"] = neutral_prob[\"Freq_bin\"].astype(float).astype(int)\n",
    "nonsense_valuecounts[\"Freq_bin\"] = nonsense_valuecounts[\"Freq_bin\"].astype(int)"
   ]
  },
  {
   "cell_type": "code",
   "execution_count": 5,
   "id": "c794df9f",
   "metadata": {},
   "outputs": [],
   "source": [
    "sfs = neutral_prob.merge(nonsense_valuecounts[[\"Freq_bin\", \"Nonsense sites\"]], on = \"Freq_bin\", how = \"left\")"
   ]
  },
  {
   "cell_type": "code",
   "execution_count": 6,
   "id": "457213c0",
   "metadata": {},
   "outputs": [],
   "source": [
    "sfs = sfs.fillna(0)"
   ]
  },
  {
   "cell_type": "code",
   "execution_count": 7,
   "id": "d13d7009",
   "metadata": {},
   "outputs": [
    {
     "data": {
      "text/html": [
       "<div>\n",
       "<style scoped>\n",
       "    .dataframe tbody tr th:only-of-type {\n",
       "        vertical-align: middle;\n",
       "    }\n",
       "\n",
       "    .dataframe tbody tr th {\n",
       "        vertical-align: top;\n",
       "    }\n",
       "\n",
       "    .dataframe thead th {\n",
       "        text-align: right;\n",
       "    }\n",
       "</style>\n",
       "<table border=\"1\" class=\"dataframe\">\n",
       "  <thead>\n",
       "    <tr style=\"text-align: right;\">\n",
       "      <th></th>\n",
       "      <th>Freq_bin</th>\n",
       "      <th>Neutral sites</th>\n",
       "      <th>Nonsense sites</th>\n",
       "    </tr>\n",
       "  </thead>\n",
       "  <tbody>\n",
       "    <tr>\n",
       "      <th>0</th>\n",
       "      <td>0</td>\n",
       "      <td>0.933107</td>\n",
       "      <td>0.993537</td>\n",
       "    </tr>\n",
       "    <tr>\n",
       "      <th>1</th>\n",
       "      <td>1</td>\n",
       "      <td>0.033375</td>\n",
       "      <td>0.005749</td>\n",
       "    </tr>\n",
       "    <tr>\n",
       "      <th>2</th>\n",
       "      <td>2</td>\n",
       "      <td>0.009365</td>\n",
       "      <td>0.000443</td>\n",
       "    </tr>\n",
       "    <tr>\n",
       "      <th>3</th>\n",
       "      <td>3</td>\n",
       "      <td>0.004658</td>\n",
       "      <td>0.000133</td>\n",
       "    </tr>\n",
       "    <tr>\n",
       "      <th>4</th>\n",
       "      <td>4</td>\n",
       "      <td>0.004817</td>\n",
       "      <td>0.000064</td>\n",
       "    </tr>\n",
       "    <tr>\n",
       "      <th>5</th>\n",
       "      <td>5</td>\n",
       "      <td>0.005462</td>\n",
       "      <td>0.000030</td>\n",
       "    </tr>\n",
       "    <tr>\n",
       "      <th>6</th>\n",
       "      <td>6</td>\n",
       "      <td>0.004715</td>\n",
       "      <td>0.000030</td>\n",
       "    </tr>\n",
       "    <tr>\n",
       "      <th>7</th>\n",
       "      <td>7</td>\n",
       "      <td>0.002232</td>\n",
       "      <td>0.000011</td>\n",
       "    </tr>\n",
       "    <tr>\n",
       "      <th>8</th>\n",
       "      <td>8</td>\n",
       "      <td>0.001223</td>\n",
       "      <td>0.000005</td>\n",
       "    </tr>\n",
       "    <tr>\n",
       "      <th>9</th>\n",
       "      <td>9</td>\n",
       "      <td>0.001046</td>\n",
       "      <td>0.000000</td>\n",
       "    </tr>\n",
       "  </tbody>\n",
       "</table>\n",
       "</div>"
      ],
      "text/plain": [
       "   Freq_bin  Neutral sites  Nonsense sites\n",
       "0         0       0.933107        0.993537\n",
       "1         1       0.033375        0.005749\n",
       "2         2       0.009365        0.000443\n",
       "3         3       0.004658        0.000133\n",
       "4         4       0.004817        0.000064\n",
       "5         5       0.005462        0.000030\n",
       "6         6       0.004715        0.000030\n",
       "7         7       0.002232        0.000011\n",
       "8         8       0.001223        0.000005\n",
       "9         9       0.001046        0.000000"
      ]
     },
     "execution_count": 7,
     "metadata": {},
     "output_type": "execute_result"
    }
   ],
   "source": [
    "sfs"
   ]
  },
  {
   "cell_type": "code",
   "execution_count": 8,
   "id": "006a8c28",
   "metadata": {},
   "outputs": [],
   "source": [
    "sfs_melt = pd.melt(sfs, id_vars=['Freq_bin'], value_vars=['Neutral sites', 'Nonsense sites'], var_name = \"Site Type\", value_name = \"Proportion\")"
   ]
  },
  {
   "cell_type": "code",
   "execution_count": 9,
   "id": "53b9b909",
   "metadata": {},
   "outputs": [
    {
     "data": {
      "text/html": [
       "<div>\n",
       "<style scoped>\n",
       "    .dataframe tbody tr th:only-of-type {\n",
       "        vertical-align: middle;\n",
       "    }\n",
       "\n",
       "    .dataframe tbody tr th {\n",
       "        vertical-align: top;\n",
       "    }\n",
       "\n",
       "    .dataframe thead th {\n",
       "        text-align: right;\n",
       "    }\n",
       "</style>\n",
       "<table border=\"1\" class=\"dataframe\">\n",
       "  <thead>\n",
       "    <tr style=\"text-align: right;\">\n",
       "      <th></th>\n",
       "      <th>Freq_bin</th>\n",
       "      <th>Site Type</th>\n",
       "      <th>Proportion</th>\n",
       "    </tr>\n",
       "  </thead>\n",
       "  <tbody>\n",
       "    <tr>\n",
       "      <th>0</th>\n",
       "      <td>0</td>\n",
       "      <td>Neutral sites</td>\n",
       "      <td>0.933107</td>\n",
       "    </tr>\n",
       "    <tr>\n",
       "      <th>1</th>\n",
       "      <td>1</td>\n",
       "      <td>Neutral sites</td>\n",
       "      <td>0.033375</td>\n",
       "    </tr>\n",
       "    <tr>\n",
       "      <th>2</th>\n",
       "      <td>2</td>\n",
       "      <td>Neutral sites</td>\n",
       "      <td>0.009365</td>\n",
       "    </tr>\n",
       "    <tr>\n",
       "      <th>3</th>\n",
       "      <td>3</td>\n",
       "      <td>Neutral sites</td>\n",
       "      <td>0.004658</td>\n",
       "    </tr>\n",
       "    <tr>\n",
       "      <th>4</th>\n",
       "      <td>4</td>\n",
       "      <td>Neutral sites</td>\n",
       "      <td>0.004817</td>\n",
       "    </tr>\n",
       "  </tbody>\n",
       "</table>\n",
       "</div>"
      ],
      "text/plain": [
       "   Freq_bin      Site Type  Proportion\n",
       "0         0  Neutral sites    0.933107\n",
       "1         1  Neutral sites    0.033375\n",
       "2         2  Neutral sites    0.009365\n",
       "3         3  Neutral sites    0.004658\n",
       "4         4  Neutral sites    0.004817"
      ]
     },
     "execution_count": 9,
     "metadata": {},
     "output_type": "execute_result"
    }
   ],
   "source": [
    "sfs_melt.head()"
   ]
  },
  {
   "cell_type": "code",
   "execution_count": 12,
   "id": "9a60cdbe",
   "metadata": {},
   "outputs": [
    {
     "data": {
      "text/plain": [
       "<Figure size 640x480 with 0 Axes>"
      ]
     },
     "metadata": {},
     "output_type": "display_data"
    }
   ],
   "source": [
    "sns.despine(bottom = True, left = True)"
   ]
  },
  {
   "cell_type": "code",
   "execution_count": 17,
   "id": "fc6a82cb",
   "metadata": {},
   "outputs": [
    {
     "data": {
      "image/png": "[encoded data removed]",
      "text/plain": [
       "<Figure size 640x480 with 1 Axes>"
      ]
     },
     "metadata": {},
     "output_type": "display_data"
    }
   ],
   "source": [
    "sfs_plot = sfs_melt\n",
    "# sfs_plot = sfs_melt[sfs_melt[\"Freq_bin\"] != 0]\n",
    "\n",
    "sfs_plot[\"bin\"] = sfs_plot.apply(lambda row: post_analysis.freq_bin_to_AF_range(row[\"Freq_bin\"], short = True), axis=1)\n",
    "sfs_plot[\"Site Type\"] = sfs_plot[\"Site Type\"].replace(\"Nonsense sites\", \"Nonsense, genes with $s_{het}$ > 0.01\")\n",
    "sfs_plot[\"Site Type\"] = sfs_plot[\"Site Type\"].replace(\"Neutral sites\", \"Neutral\")\n",
    "\n",
    "sns.barplot(sfs_plot, x=\"bin\", y=\"Proportion\", hue=\"Site Type\")\n",
    "plt.xticks(rotation=60)\n",
    "plt.yscale(\"log\")\n",
    "sns.despine(bottom = False, left = False)\n",
    "\n",
    "\n",
    "y_list = [0.011, 0.0012, 0.0009, 0.0006, 0.0003, 0.00015, 0.0001, 0.00009, 0.00005]\n",
    "\n",
    "for i in range(9):\n",
    "    x = 1.13 + i\n",
    "    y = y_list[i]\n",
    "\n",
    "    arrow = u'$\\u2193$'\n",
    "    \n",
    "    text = str(i + 1)\n",
    "    plt.text(x, y, r\"$\\beta^S_\" + text +\"$\")\n",
    "    \n",
    "plt.savefig('multinomial_neutral_beta.pdf',dpi=300, bbox_inches = \"tight\", transparent=True)  \n"
   ]
  },
  {
   "cell_type": "code",
   "execution_count": null,
   "id": "eec842bb",
   "metadata": {},
   "outputs": [],
   "source": []
  }
 ],
 "metadata": {
  "kernelspec": {
   "display_name": "Python 3 (ipykernel)",
   "language": "python",
   "name": "python3"
  },
  "language_info": {
   "codemirror_mode": {
    "name": "ipython",
    "version": 3
   },
   "file_extension": ".py",
   "mimetype": "text/x-python",
   "name": "python",
   "nbconvert_exporter": "python",
   "pygments_lexer": "ipython3",
   "version": "3.9.17"
  }
 },
 "nbformat": 4,
 "nbformat_minor": 5
}
