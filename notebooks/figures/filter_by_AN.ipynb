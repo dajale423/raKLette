{
 "cells": [
  {
   "cell_type": "code",
   "execution_count": 2,
   "id": "1e6fe2a8-cabf-4bc8-88b6-63c68ee6f740",
   "metadata": {},
   "outputs": [
    {
     "name": "stderr",
     "output_type": "stream",
     "text": [
      "/home/djl34/mambaforge/envs/raklette/lib/python3.9/site-packages/dask/dataframe/_pyarrow_compat.py:17: FutureWarning: Minimal version of pyarrow will soon be increased to 14.0.1. You are using 11.0.0. Please consider upgrading.\n",
      "  warnings.warn(\n"
     ]
    }
   ],
   "source": [
    "import sys\n",
    "sys.path.insert(0,'/home/djl34/kl_git/scripts')\n",
    "from notebook_imports import *"
   ]
  },
  {
   "cell_type": "code",
   "execution_count": 3,
   "id": "ac7c20d9-e766-4303-87f7-8a2179905dd8",
   "metadata": {},
   "outputs": [
    {
     "name": "stdout",
     "output_type": "stream",
     "text": [
      "chrom:  20\n",
      "157607650\n",
      "157607627\n",
      "157607649\n",
      "157607649\n",
      "chrom:  21\n",
      "85852169\n",
      "85852159\n",
      "85852169\n",
      "85852169\n",
      "chrom:  22\n",
      "83237796\n",
      "83237779\n",
      "83237796\n",
      "83237796\n"
     ]
    }
   ],
   "source": [
    "for chrom in [20, 21, 22]:\n",
    "    print(\"chrom: \", str(chrom))\n",
    "    filename = os.path.join(KL_data_dir, f\"whole_genome/freq_bins/{chrom}/_metadata\")\n",
    "    rate = dd.read_parquet(\"/\".join(filename.split(\"/\")[:-1]) + \"/\")\n",
    "\n",
    "    print(len(rate))\n",
    "    print(len(rate[rate[\"AN_total_interpolate\"] > 1000000]))\n",
    "    print(len(rate[rate[\"AN_total_interpolate\"] > 950000]))\n",
    "    print(len(rate[rate[\"AN_total_interpolate\"] > 900000]))"
   ]
  },
  {
   "cell_type": "code",
   "execution_count": null,
   "id": "479065ad-a185-4a72-8e22-9cba382e4ae8",
   "metadata": {},
   "outputs": [],
   "source": []
  }
 ],
 "metadata": {
  "kernelspec": {
   "display_name": "Python 3 (ipykernel)",
   "language": "python",
   "name": "python3"
  },
  "language_info": {
   "codemirror_mode": {
    "name": "ipython",
    "version": 3
   },
   "file_extension": ".py",
   "mimetype": "text/x-python",
   "name": "python",
   "nbconvert_exporter": "python",
   "pygments_lexer": "ipython3",
   "version": "3.9.18"
  }
 },
 "nbformat": 4,
 "nbformat_minor": 5
}
