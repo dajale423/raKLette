{
 "cells": [
  {
   "cell_type": "code",
   "execution_count": 1,
   "id": "d6ae9237",
   "metadata": {},
   "outputs": [
    {
     "name": "stderr",
     "output_type": "stream",
     "text": [
      "/home/djl34/.conda/envs/kl/lib/python3.10/site-packages/tqdm/auto.py:22: TqdmWarning: IProgress not found. Please update jupyter and ipywidgets. See https://ipywidgets.readthedocs.io/en/stable/user_install.html\n",
      "  from .autonotebook import tqdm as notebook_tqdm\n"
     ]
    }
   ],
   "source": [
    "import os\n",
    "import sys\n",
    "import glob\n",
    "import numpy as np\n",
    "import pandas as pd\n",
    "import math\n",
    "import sys\n",
    "import random\n",
    "import pickle\n",
    "import csv\n",
    "\n",
    "import dask.dataframe as dd\n",
    "from dask.distributed import Client\n",
    "\n",
    "import torch\n",
    "import pyro\n",
    "import pyro.distributions as dist\n",
    "import pyro.distributions.constraints as constraints\n",
    "from pyro.nn import PyroModule\n",
    "from pyro.infer import Predictive\n",
    "\n",
    "from tqdm import tqdm\n",
    "from torch.utils.data import Dataset, DataLoader\n",
    "\n",
    "sys.path.insert(0, '/home/djl34/lab_pd/kl/git/KL/raklette')\n",
    "import raklette_updated\n",
    "from run_raklette import run_raklette\n",
    "from run_raklette import TSVDataset\n",
    "\n",
    "##############################################################################################################\n",
    "\n",
    "KL_data_dir = \"/home/djl34/lab_pd/kl/data\"\n",
    "scratch_dir = \"/n/scratch3/users/d/djl34\"\n",
    "\n",
    "base_set = [\"A\", \"C\", \"T\", \"G\"]\n",
    "chrom_set = [str(x) for x in range(1, 23)]\n",
    "# chrom_set = [\"22\"]"
   ]
  },
  {
   "cell_type": "markdown",
   "id": "ca21ab54",
   "metadata": {},
   "source": [
    "## load files"
   ]
  },
  {
   "cell_type": "code",
   "execution_count": 28,
   "id": "d99da60d",
   "metadata": {},
   "outputs": [
    {
     "name": "stdout",
     "output_type": "stream",
     "text": [
      "number of samples: 2955\n",
      "number of genes: 1\n",
      "number of chunks 0.002955\n"
     ]
    }
   ],
   "source": [
    "variants = \"1_split_500_window1k_570.tsv\"\n",
    "input_filename = variants\n",
    "\n",
    "# length_file = os.path.join(scratch_dir, \"kl_input/{header}_length.txt\")\n",
    "# length_file = length_file.replace(\"{header}\", header)\n",
    "neutral_sfs = KL_data_dir + \"/whole_genome/neutral/5_bins/all.tsv\"\n",
    "n_covs = 0\n",
    "\n",
    "df = pd.read_csv(variants, sep = \"\\t\")\n",
    "nb_samples = len(df)\n",
    "n_genes = 1\n",
    "\n",
    "print(\"number of samples: \" + str(nb_samples))\n",
    "print(\"number of genes: \" + str(n_genes))\n",
    "\n",
    "   \n",
    "with open(variants) as f:\n",
    "    first_line = f.readline()\n",
    "header = first_line.split(\"\\t\")\n",
    "header = [x.strip() for x in header]\n",
    "\n",
    "chunksize = 1000000\n",
    "\n",
    "print(\"number of chunks \" + str(nb_samples/chunksize))\n",
    "\n",
    "dataset = TSVDataset(input_filename, chunksize=chunksize, nb_samples = nb_samples, header_all = header, features = header)\n",
    "loader = DataLoader(dataset, batch_size=1, num_workers=1, shuffle=False)\n",
    "\n",
    "num_epochs = 2000"
   ]
  },
  {
   "cell_type": "code",
   "execution_count": 37,
   "id": "0827885e",
   "metadata": {},
   "outputs": [],
   "source": [
    "pyro.clear_param_store()\n"
   ]
  },
  {
   "cell_type": "code",
   "execution_count": 38,
   "id": "3bff88c4",
   "metadata": {},
   "outputs": [
    {
     "data": {
      "text/plain": [
       "AutoNormal(\n",
       "  (locs): PyroModule()\n",
       "  (scales): PyroModule()\n",
       ")"
      ]
     },
     "execution_count": 38,
     "metadata": {},
     "output_type": "execute_result"
    }
   ],
   "source": [
    "guide"
   ]
  },
  {
   "cell_type": "code",
   "execution_count": 35,
   "id": "24261517",
   "metadata": {},
   "outputs": [],
   "source": [
    "pyro.get_param_store().load(\"1_split_500_window1k_570.pkl\",)"
   ]
  },
  {
   "cell_type": "code",
   "execution_count": 39,
   "id": "6d70a29b",
   "metadata": {},
   "outputs": [
    {
     "data": {
      "text/plain": [
       "<function pyro.primitives.param(name, init_tensor=None, constraint=Real(), event_dim=None)>"
      ]
     },
     "execution_count": 39,
     "metadata": {},
     "output_type": "execute_result"
    }
   ],
   "source": [
    "pyro.param"
   ]
  },
  {
   "cell_type": "code",
   "execution_count": 52,
   "id": "7e0141e2",
   "metadata": {},
   "outputs": [],
   "source": [
    "with open('1_split_500_window1k_570.model', 'rb') as handle:\n",
    "    dictionary = pickle.load(handle)"
   ]
  },
  {
   "cell_type": "code",
   "execution_count": 53,
   "id": "66a8dcba",
   "metadata": {},
   "outputs": [
    {
     "data": {
      "text/plain": [
       "{'model': <bound method raklette.model of <raklette_updated.raklette object at 0x7f363557fa60>>,\n",
       " 'guide': AutoNormal(\n",
       "   (locs): PyroModule()\n",
       "   (scales): PyroModule()\n",
       " )}"
      ]
     },
     "execution_count": 53,
     "metadata": {},
     "output_type": "execute_result"
    }
   ],
   "source": [
    "dictionary"
   ]
  },
  {
   "cell_type": "code",
   "execution_count": 42,
   "id": "de590041",
   "metadata": {},
   "outputs": [
    {
     "data": {
      "text/plain": [
       "AutoNormal(\n",
       "  (locs): PyroModule()\n",
       "  (scales): PyroModule()\n",
       ")"
      ]
     },
     "execution_count": 42,
     "metadata": {},
     "output_type": "execute_result"
    }
   ],
   "source": [
    "guide"
   ]
  },
  {
   "cell_type": "code",
   "execution_count": 51,
   "id": "c8e61f1b",
   "metadata": {},
   "outputs": [
    {
     "data": {
      "text/plain": [
       "{'beta_sel': tensor([[[-4.7887,  2.2967, -0.6386,  0.2012]],\n",
       " \n",
       "         [[-4.6885,  2.4627, -0.3943,  0.5629]],\n",
       " \n",
       "         [[-4.5883,  2.6288, -0.1501,  0.9245]]])}"
      ]
     },
     "execution_count": 51,
     "metadata": {},
     "output_type": "execute_result"
    }
   ],
   "source": [
    "guide.quantiles([0.05, 0.5, 0.95])"
   ]
  },
  {
   "cell_type": "code",
   "execution_count": 43,
   "id": "f5faae4c",
   "metadata": {},
   "outputs": [],
   "source": [
    "predictive = Predictive(model, guide=guide, num_samples = 800)"
   ]
  },
  {
   "cell_type": "code",
   "execution_count": 44,
   "id": "8a470268",
   "metadata": {},
   "outputs": [],
   "source": [
    "mu_bin = 2\n",
    "\n",
    "df_mu = df[df[\"mu_index\"] == mu_bin]"
   ]
  },
  {
   "cell_type": "code",
   "execution_count": 45,
   "id": "e0e54375",
   "metadata": {},
   "outputs": [],
   "source": [
    "x = df_mu[header]\n",
    "x = x.astype(float)\n",
    "x = torch.from_numpy(x.values)"
   ]
  },
  {
   "cell_type": "code",
   "execution_count": 46,
   "id": "ffddea5f",
   "metadata": {},
   "outputs": [],
   "source": [
    "gene_col = 2\n",
    "mu_col = 0\n",
    "bin_col = 1\n",
    "\n",
    "gene_ids = x[:,gene_col].reshape(-1)\n",
    "gene_ids = gene_ids.type(torch.LongTensor)\n",
    "\n",
    "mu_vals = x[:,mu_col].reshape(-1)\n",
    "mu_vals = mu_vals.type(torch.LongTensor)\n",
    "\n",
    "freq_bins = x[:,bin_col].reshape(-1)"
   ]
  },
  {
   "cell_type": "code",
   "execution_count": 47,
   "id": "88a21751",
   "metadata": {},
   "outputs": [],
   "source": [
    "samples = predictive(mu_vals, gene_ids, None)"
   ]
  },
  {
   "cell_type": "code",
   "execution_count": 48,
   "id": "af7e647d",
   "metadata": {},
   "outputs": [],
   "source": [
    "df_mu_sfs = pd.DataFrame((df_mu.groupby(\"Freq_bin\").size())/len(df_mu)).reset_index()\n",
    "\n",
    "for i in range(5):\n",
    "    if len(df_mu_sfs[df_mu_sfs[\"Freq_bin\"] == i]) == 0:\n",
    "        df_mu_sfs.loc[i] = [i, 0.0]\n",
    "    \n",
    "df_mu_sfs.rename({0: \"observed\"}, axis = 1, inplace = True)\n",
    "\n",
    "# df_mu_sfs[\"neutral\"] = pd.Series(df_neutral.iloc[mu_bin, 1:6]).reset_index(drop = True)\n"
   ]
  },
  {
   "cell_type": "code",
   "execution_count": 49,
   "id": "37da2df8",
   "metadata": {},
   "outputs": [],
   "source": [
    "df_post_prediction = pd.DataFrame(samples[\"obs\"].reshape(-1))\n",
    "df_mu_sfs[\"post pred\"] = list(pd.Series(df_post_prediction.groupby(0).size()/len(df_post_prediction)))"
   ]
  },
  {
   "cell_type": "code",
   "execution_count": 50,
   "id": "c75a5dc7",
   "metadata": {},
   "outputs": [
    {
     "data": {
      "text/html": [
       "<div>\n",
       "<style scoped>\n",
       "    .dataframe tbody tr th:only-of-type {\n",
       "        vertical-align: middle;\n",
       "    }\n",
       "\n",
       "    .dataframe tbody tr th {\n",
       "        vertical-align: top;\n",
       "    }\n",
       "\n",
       "    .dataframe thead th {\n",
       "        text-align: right;\n",
       "    }\n",
       "</style>\n",
       "<table border=\"1\" class=\"dataframe\">\n",
       "  <thead>\n",
       "    <tr style=\"text-align: right;\">\n",
       "      <th></th>\n",
       "      <th>Freq_bin</th>\n",
       "      <th>observed</th>\n",
       "      <th>post pred</th>\n",
       "    </tr>\n",
       "  </thead>\n",
       "  <tbody>\n",
       "    <tr>\n",
       "      <th>0</th>\n",
       "      <td>0.0</td>\n",
       "      <td>0.921053</td>\n",
       "      <td>0.879235</td>\n",
       "    </tr>\n",
       "    <tr>\n",
       "      <th>1</th>\n",
       "      <td>1.0</td>\n",
       "      <td>0.069079</td>\n",
       "      <td>0.107850</td>\n",
       "    </tr>\n",
       "    <tr>\n",
       "      <th>2</th>\n",
       "      <td>2.0</td>\n",
       "      <td>0.003289</td>\n",
       "      <td>0.009605</td>\n",
       "    </tr>\n",
       "    <tr>\n",
       "      <th>3</th>\n",
       "      <td>3.0</td>\n",
       "      <td>0.006579</td>\n",
       "      <td>0.003080</td>\n",
       "    </tr>\n",
       "    <tr>\n",
       "      <th>4</th>\n",
       "      <td>4.0</td>\n",
       "      <td>0.000000</td>\n",
       "      <td>0.000230</td>\n",
       "    </tr>\n",
       "  </tbody>\n",
       "</table>\n",
       "</div>"
      ],
      "text/plain": [
       "   Freq_bin  observed  post pred\n",
       "0       0.0  0.921053   0.879235\n",
       "1       1.0  0.069079   0.107850\n",
       "2       2.0  0.003289   0.009605\n",
       "3       3.0  0.006579   0.003080\n",
       "4       4.0  0.000000   0.000230"
      ]
     },
     "execution_count": 50,
     "metadata": {},
     "output_type": "execute_result"
    }
   ],
   "source": [
    "df_mu_sfs"
   ]
  },
  {
   "cell_type": "code",
   "execution_count": null,
   "id": "00e7b556",
   "metadata": {},
   "outputs": [],
   "source": []
  }
 ],
 "metadata": {
  "kernelspec": {
   "display_name": "Python 3 (ipykernel)",
   "language": "python",
   "name": "python3"
  },
  "language_info": {
   "codemirror_mode": {
    "name": "ipython",
    "version": 3
   },
   "file_extension": ".py",
   "mimetype": "text/x-python",
   "name": "python",
   "nbconvert_exporter": "python",
   "pygments_lexer": "ipython3",
   "version": "3.10.6"
  }
 },
 "nbformat": 4,
 "nbformat_minor": 5
}
