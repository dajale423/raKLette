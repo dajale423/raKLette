{
 "cells": [
  {
   "cell_type": "code",
   "execution_count": 2,
   "id": "f9e356d1",
   "metadata": {},
   "outputs": [
    {
     "name": "stderr",
     "output_type": "stream",
     "text": [
      "/home/djl34/mambaforge/envs/raklette/lib/python3.9/site-packages/dask/dataframe/_pyarrow_compat.py:17: FutureWarning: Minimal version of pyarrow will soon be increased to 14.0.1. You are using 11.0.0. Please consider upgrading.\n",
      "  warnings.warn(\n"
     ]
    }
   ],
   "source": [
    "import sys\n",
    "sys.path.insert(0,'/home/djl34/kl_git/scripts')\n",
    "from notebook_imports import *"
   ]
  },
  {
   "cell_type": "code",
   "execution_count": 3,
   "id": "fd3c6a98",
   "metadata": {},
   "outputs": [],
   "source": [
    "client = Client()"
   ]
  },
  {
   "cell_type": "code",
   "execution_count": 4,
   "id": "f65d5e57",
   "metadata": {},
   "outputs": [],
   "source": [
    "type = \"kl/pseudocount_10\"\n",
    "\n",
    "filename = os.path.join(KL_data_dir, f\"results/footprints/zscore/denovo_results/{type}.tsv\")"
   ]
  },
  {
   "cell_type": "code",
   "execution_count": 5,
   "id": "d2fb216a-8e66-4e9d-9e91-c041918764fc",
   "metadata": {},
   "outputs": [],
   "source": [
    "df = pd.read_csv(filename, sep = \"\\t\")"
   ]
  },
  {
   "cell_type": "code",
   "execution_count": 6,
   "id": "29f30a1d-98ef-4e11-9d32-d77091f43afd",
   "metadata": {},
   "outputs": [
    {
     "data": {
      "text/plain": [
       "[None]"
      ]
     },
     "execution_count": 6,
     "metadata": {},
     "output_type": "execute_result"
    },
    {
     "data": {
      "image/png": "[encoded data removed]",
      "text/plain": [
       "<Figure size 640x480 with 1 Axes>"
      ]
     },
     "metadata": {},
     "output_type": "display_data"
    }
   ],
   "source": [
    "g = sns.scatterplot(data=df, x=\"top\", y=\"Chi-squre statistics\")\n",
    "\n",
    "plt.axhline(y=3.84) \n",
    "\n",
    "g.set(xscale=\"log\")"
   ]
  },
  {
   "cell_type": "code",
   "execution_count": 7,
   "id": "67eca24a-3a98-4edf-85fb-91b47e540ccd",
   "metadata": {},
   "outputs": [
    {
     "data": {
      "text/plain": [
       "[None]"
      ]
     },
     "execution_count": 7,
     "metadata": {},
     "output_type": "execute_result"
    },
    {
     "data": {
      "image/png": "[encoded data removed]",
      "text/plain": [
       "<Figure size 640x480 with 1 Axes>"
      ]
     },
     "metadata": {},
     "output_type": "display_data"
    }
   ],
   "source": [
    "g = sns.scatterplot(data=df, x=\"top\", y=\"ratio\")\n",
    "g.set(xscale=\"log\")"
   ]
  },
  {
   "cell_type": "code",
   "execution_count": 8,
   "id": "423ad2da-5763-403a-af45-09ee6ebf1b21",
   "metadata": {},
   "outputs": [
    {
     "data": {
      "text/html": [
       "<div>\n",
       "<style scoped>\n",
       "    .dataframe tbody tr th:only-of-type {\n",
       "        vertical-align: middle;\n",
       "    }\n",
       "\n",
       "    .dataframe tbody tr th {\n",
       "        vertical-align: top;\n",
       "    }\n",
       "\n",
       "    .dataframe thead th {\n",
       "        text-align: right;\n",
       "    }\n",
       "</style>\n",
       "<table border=\"1\" class=\"dataframe\">\n",
       "  <thead>\n",
       "    <tr style=\"text-align: right;\">\n",
       "      <th></th>\n",
       "      <th>Unnamed: 0</th>\n",
       "      <th>ratio</th>\n",
       "      <th>Chi-squre statistics</th>\n",
       "      <th>P-value</th>\n",
       "      <th>average sites</th>\n",
       "      <th>average mu</th>\n",
       "      <th>top</th>\n",
       "    </tr>\n",
       "  </thead>\n",
       "  <tbody>\n",
       "    <tr>\n",
       "      <th>0</th>\n",
       "      <td>0</td>\n",
       "      <td>2.445226</td>\n",
       "      <td>1.219110</td>\n",
       "      <td>0.269535</td>\n",
       "      <td>400.623000</td>\n",
       "      <td>37.982651</td>\n",
       "      <td>1000</td>\n",
       "    </tr>\n",
       "    <tr>\n",
       "      <th>1</th>\n",
       "      <td>1</td>\n",
       "      <td>1.369631</td>\n",
       "      <td>0.580002</td>\n",
       "      <td>0.446312</td>\n",
       "      <td>209.291800</td>\n",
       "      <td>19.602067</td>\n",
       "      <td>5000</td>\n",
       "    </tr>\n",
       "    <tr>\n",
       "      <th>2</th>\n",
       "      <td>2</td>\n",
       "      <td>1.272416</td>\n",
       "      <td>0.655164</td>\n",
       "      <td>0.418272</td>\n",
       "      <td>170.858200</td>\n",
       "      <td>15.741173</td>\n",
       "      <td>10000</td>\n",
       "    </tr>\n",
       "    <tr>\n",
       "      <th>3</th>\n",
       "      <td>3</td>\n",
       "      <td>1.011683</td>\n",
       "      <td>0.005759</td>\n",
       "      <td>0.939506</td>\n",
       "      <td>116.764040</td>\n",
       "      <td>10.357480</td>\n",
       "      <td>50000</td>\n",
       "    </tr>\n",
       "    <tr>\n",
       "      <th>4</th>\n",
       "      <td>4</td>\n",
       "      <td>0.983238</td>\n",
       "      <td>0.020355</td>\n",
       "      <td>0.886550</td>\n",
       "      <td>101.166120</td>\n",
       "      <td>8.883083</td>\n",
       "      <td>100000</td>\n",
       "    </tr>\n",
       "    <tr>\n",
       "      <th>5</th>\n",
       "      <td>5</td>\n",
       "      <td>0.957405</td>\n",
       "      <td>0.468866</td>\n",
       "      <td>0.493509</td>\n",
       "      <td>72.062520</td>\n",
       "      <td>6.268270</td>\n",
       "      <td>500000</td>\n",
       "    </tr>\n",
       "    <tr>\n",
       "      <th>6</th>\n",
       "      <td>6</td>\n",
       "      <td>1.003377</td>\n",
       "      <td>0.004291</td>\n",
       "      <td>0.947770</td>\n",
       "      <td>61.636876</td>\n",
       "      <td>5.356109</td>\n",
       "      <td>1000000</td>\n",
       "    </tr>\n",
       "  </tbody>\n",
       "</table>\n",
       "</div>"
      ],
      "text/plain": [
       "   Unnamed: 0     ratio  Chi-squre statistics   P-value  average sites  \\\n",
       "0           0  2.445226              1.219110  0.269535     400.623000   \n",
       "1           1  1.369631              0.580002  0.446312     209.291800   \n",
       "2           2  1.272416              0.655164  0.418272     170.858200   \n",
       "3           3  1.011683              0.005759  0.939506     116.764040   \n",
       "4           4  0.983238              0.020355  0.886550     101.166120   \n",
       "5           5  0.957405              0.468866  0.493509      72.062520   \n",
       "6           6  1.003377              0.004291  0.947770      61.636876   \n",
       "\n",
       "   average mu      top  \n",
       "0   37.982651     1000  \n",
       "1   19.602067     5000  \n",
       "2   15.741173    10000  \n",
       "3   10.357480    50000  \n",
       "4    8.883083   100000  \n",
       "5    6.268270   500000  \n",
       "6    5.356109  1000000  "
      ]
     },
     "execution_count": 8,
     "metadata": {},
     "output_type": "execute_result"
    }
   ],
   "source": [
    "df"
   ]
  },
  {
   "cell_type": "code",
   "execution_count": null,
   "id": "fd693bf0-a259-47c3-8edd-8adfb2c2ff61",
   "metadata": {},
   "outputs": [],
   "source": []
  },
  {
   "cell_type": "code",
   "execution_count": null,
   "id": "2ef66cef-6b9a-4edf-9dec-8af9670b5347",
   "metadata": {},
   "outputs": [],
   "source": []
  }
 ],
 "metadata": {
  "kernelspec": {
   "display_name": "Python 3 (ipykernel)",
   "language": "python",
   "name": "python3"
  },
  "language_info": {
   "codemirror_mode": {
    "name": "ipython",
    "version": 3
   },
   "file_extension": ".py",
   "mimetype": "text/x-python",
   "name": "python",
   "nbconvert_exporter": "python",
   "pygments_lexer": "ipython3",
   "version": "3.9.18"
  }
 },
 "nbformat": 4,
 "nbformat_minor": 5
}
