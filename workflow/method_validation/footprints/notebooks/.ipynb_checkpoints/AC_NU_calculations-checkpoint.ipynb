{
 "cells": [
  {
   "cell_type": "code",
   "execution_count": null,
   "id": "7e449628-4668-4f97-a82f-f16f2639b9f2",
   "metadata": {},
   "outputs": [],
   "source": [
    "### tried some AC/NU cla"
   ]
  },
  {
   "cell_type": "code",
   "execution_count": 1,
   "id": "f9e356d1",
   "metadata": {},
   "outputs": [
    {
     "name": "stderr",
     "output_type": "stream",
     "text": [
      "/home/djl34/mambaforge/envs/raklette/lib/python3.9/site-packages/dask/dataframe/_pyarrow_compat.py:17: FutureWarning: Minimal version of pyarrow will soon be increased to 14.0.1. You are using 11.0.0. Please consider upgrading.\n",
      "  warnings.warn(\n"
     ]
    }
   ],
   "source": [
    "import os\n",
    "import dask.dataframe as dd\n",
    "from dask.distributed import Client\n",
    "import pandas as pd\n",
    "\n",
    "import seaborn as sns\n",
    "import matplotlib.pyplot as plt\n",
    "\n",
    "import sys\n",
    "sys.path.insert(0, '/home/djl34/lab_pd/kl/git/KL/scripts')\n",
    "import post_analysis\n",
    "\n",
    "pd.set_option('display.max_columns', None)\n",
    "\n",
    "pd_data_dir = \"/home/djl34/lab_pd/data\"\n",
    "aso_data_dir = \"/home/djl34/lab_pd/aso/data\"\n",
    "KL_data_dir = \"/home/djl34/lab_pd/kl/data\"\n",
    "scratch_dir = \"/n/scratch/users/d/djl34\"\n",
    "\n",
    "all_chrom_set = [str(x) for x in range(1, 23)]\n",
    "chrom_set = all_chrom_set"
   ]
  },
  {
   "cell_type": "code",
   "execution_count": 2,
   "id": "fd3c6a98",
   "metadata": {},
   "outputs": [],
   "source": [
    "client = Client()"
   ]
  },
  {
   "cell_type": "code",
   "execution_count": 3,
   "id": "22bdb076",
   "metadata": {},
   "outputs": [],
   "source": [
    "filename = os.path.join(KL_data_dir, \"results/footprints/mu_sum/{chrom}.tsv\")\n",
    "filename = filename.replace(\"{chrom}\", \"*\")"
   ]
  },
  {
   "cell_type": "code",
   "execution_count": 4,
   "id": "06fb7cf5",
   "metadata": {},
   "outputs": [],
   "source": [
    "ddf = dd.read_csv(filename, sep = \"\\t\", dtype={'Spliceai_info': 'object'})"
   ]
  },
  {
   "cell_type": "code",
   "execution_count": 5,
   "id": "e4622e3d",
   "metadata": {},
   "outputs": [
    {
     "name": "stderr",
     "output_type": "stream",
     "text": [
      "/home/djl34/mambaforge/envs/raklette/lib/python3.9/site-packages/dask/dataframe/_pyarrow_compat.py:17: FutureWarning: Minimal version of pyarrow will soon be increased to 14.0.1. You are using 11.0.0. Please consider upgrading.\n",
      "  warnings.warn(\n"
     ]
    }
   ],
   "source": [
    "df = ddf.compute()"
   ]
  },
  {
   "cell_type": "code",
   "execution_count": 6,
   "id": "c603ee3a",
   "metadata": {},
   "outputs": [],
   "source": [
    "df[\"NU\"] = df[\"AN_mean\"] * df[\"mu\"]\n",
    "df[\"AC/NU\"] = df[\"AC_total\"] /df[\"AN_mean\"] * df[\"mu\"]"
   ]
  },
  {
   "cell_type": "code",
   "execution_count": 18,
   "id": "3a0e1c88",
   "metadata": {},
   "outputs": [
    {
     "data": {
      "text/plain": [
       "3729.0"
      ]
     },
     "execution_count": 18,
     "metadata": {},
     "output_type": "execute_result"
    }
   ],
   "source": [
    "df[\"denovo_an_case\"].sum()"
   ]
  },
  {
   "cell_type": "code",
   "execution_count": 19,
   "id": "77bb362f",
   "metadata": {},
   "outputs": [
    {
     "data": {
      "text/plain": [
       "3648.0"
      ]
     },
     "execution_count": 19,
     "metadata": {},
     "output_type": "execute_result"
    }
   ],
   "source": [
    "df[\"denovo_an_control\"].sum()"
   ]
  },
  {
   "cell_type": "code",
   "execution_count": 9,
   "id": "b782c5a2",
   "metadata": {},
   "outputs": [
    {
     "data": {
      "text/plain": [
       "2310263.4969863216"
      ]
     },
     "execution_count": 9,
     "metadata": {},
     "output_type": "execute_result"
    }
   ],
   "source": [
    "df[\"NU\"].mean()"
   ]
  },
  {
   "cell_type": "code",
   "execution_count": 10,
   "id": "dcca3b7c",
   "metadata": {},
   "outputs": [
    {
     "data": {
      "text/plain": [
       "10795.92"
      ]
     },
     "execution_count": 10,
     "metadata": {},
     "output_type": "execute_result"
    }
   ],
   "source": [
    "df[\"NU\"].min()"
   ]
  },
  {
   "cell_type": "code",
   "execution_count": 7,
   "id": "06e5a037",
   "metadata": {},
   "outputs": [
    {
     "data": {
      "text/plain": [
       "2963546"
      ]
     },
     "execution_count": 7,
     "metadata": {},
     "output_type": "execute_result"
    }
   ],
   "source": [
    "len(df[df[\"sites\"] >= 30])"
   ]
  },
  {
   "cell_type": "code",
   "execution_count": null,
   "id": "0c8d8598",
   "metadata": {},
   "outputs": [],
   "source": [
    "len(df[df[\"sites\"] >= 30])"
   ]
  },
  {
   "cell_type": "code",
   "execution_count": 11,
   "id": "ae0c09a5",
   "metadata": {},
   "outputs": [],
   "source": [
    "df_30 = df[df[\"sites\"] >= 30]"
   ]
  },
  {
   "cell_type": "code",
   "execution_count": 12,
   "id": "5cf83f2b",
   "metadata": {},
   "outputs": [
    {
     "name": "stderr",
     "output_type": "stream",
     "text": [
      "/tmp/ipykernel_32094/1470700933.py:3: SettingWithCopyWarning: \n",
      "A value is trying to be set on a copy of a slice from a DataFrame.\n",
      "Try using .loc[row_indexer,col_indexer] = value instead\n",
      "\n",
      "See the caveats in the documentation: https://pandas.pydata.org/pandas-docs/stable/user_guide/indexing.html#returning-a-view-versus-a-copy\n",
      "  df_30[\"rate_pergen\"] = df_30[\"mu\"] * per_generation_factor * 1902\n"
     ]
    }
   ],
   "source": [
    "per_generation_factor = 1.015 * 10 **-7\n",
    "\n",
    "df_30[\"rate_pergen\"] = df_30[\"mu\"] * per_generation_factor * 1902"
   ]
  },
  {
   "cell_type": "code",
   "execution_count": 30,
   "id": "e5c9c3b5",
   "metadata": {},
   "outputs": [],
   "source": [
    "df_30.to_csv(os.path.join(KL_data_dir, \"results/footprints/AC_NU_30sites_cutoff.tsv\"), sep = \"\\t\")"
   ]
  },
  {
   "cell_type": "code",
   "execution_count": 15,
   "id": "758af55e",
   "metadata": {},
   "outputs": [
    {
     "data": {
      "text/html": [
       "<div>\n",
       "<style scoped>\n",
       "    .dataframe tbody tr th:only-of-type {\n",
       "        vertical-align: middle;\n",
       "    }\n",
       "\n",
       "    .dataframe tbody tr th {\n",
       "        vertical-align: top;\n",
       "    }\n",
       "\n",
       "    .dataframe thead th {\n",
       "        text-align: right;\n",
       "    }\n",
       "</style>\n",
       "<table border=\"1\" class=\"dataframe\">\n",
       "  <thead>\n",
       "    <tr style=\"text-align: right;\">\n",
       "      <th></th>\n",
       "      <th>footprint_identifier</th>\n",
       "      <th>mu</th>\n",
       "      <th>AC_total</th>\n",
       "      <th>denovo_an_case</th>\n",
       "      <th>denovo_an_control</th>\n",
       "      <th>AN_mean</th>\n",
       "      <th>sites</th>\n",
       "      <th>NU</th>\n",
       "      <th>AC/NU</th>\n",
       "      <th>rate_pergen</th>\n",
       "    </tr>\n",
       "  </thead>\n",
       "  <tbody>\n",
       "    <tr>\n",
       "      <th>0</th>\n",
       "      <td>1.102814.3</td>\n",
       "      <td>4.278</td>\n",
       "      <td>21.0</td>\n",
       "      <td>0.0</td>\n",
       "      <td>0.0</td>\n",
       "      <td>550917.515152</td>\n",
       "      <td>33</td>\n",
       "      <td>2.356825e+06</td>\n",
       "      <td>0.000163</td>\n",
       "      <td>0.000826</td>\n",
       "    </tr>\n",
       "    <tr>\n",
       "      <th>1</th>\n",
       "      <td>1.102814.44</td>\n",
       "      <td>11.287</td>\n",
       "      <td>432.0</td>\n",
       "      <td>0.0</td>\n",
       "      <td>0.0</td>\n",
       "      <td>549097.975309</td>\n",
       "      <td>81</td>\n",
       "      <td>6.197669e+06</td>\n",
       "      <td>0.008880</td>\n",
       "      <td>0.002179</td>\n",
       "    </tr>\n",
       "    <tr>\n",
       "      <th>2</th>\n",
       "      <td>1.102814.47</td>\n",
       "      <td>16.900</td>\n",
       "      <td>134.0</td>\n",
       "      <td>0.0</td>\n",
       "      <td>0.0</td>\n",
       "      <td>550766.588235</td>\n",
       "      <td>136</td>\n",
       "      <td>9.307955e+06</td>\n",
       "      <td>0.004112</td>\n",
       "      <td>0.003263</td>\n",
       "    </tr>\n",
       "    <tr>\n",
       "      <th>3</th>\n",
       "      <td>1.102821.4</td>\n",
       "      <td>6.963</td>\n",
       "      <td>473.0</td>\n",
       "      <td>0.0</td>\n",
       "      <td>0.0</td>\n",
       "      <td>552212.023810</td>\n",
       "      <td>84</td>\n",
       "      <td>3.845052e+06</td>\n",
       "      <td>0.005964</td>\n",
       "      <td>0.001344</td>\n",
       "    </tr>\n",
       "    <tr>\n",
       "      <th>4</th>\n",
       "      <td>1.1029632.1</td>\n",
       "      <td>6.412</td>\n",
       "      <td>197.0</td>\n",
       "      <td>0.0</td>\n",
       "      <td>0.0</td>\n",
       "      <td>552300.055556</td>\n",
       "      <td>90</td>\n",
       "      <td>3.541348e+06</td>\n",
       "      <td>0.002287</td>\n",
       "      <td>0.001238</td>\n",
       "    </tr>\n",
       "  </tbody>\n",
       "</table>\n",
       "</div>"
      ],
      "text/plain": [
       "  footprint_identifier      mu  AC_total  denovo_an_case  denovo_an_control  \\\n",
       "0           1.102814.3   4.278      21.0             0.0                0.0   \n",
       "1          1.102814.44  11.287     432.0             0.0                0.0   \n",
       "2          1.102814.47  16.900     134.0             0.0                0.0   \n",
       "3           1.102821.4   6.963     473.0             0.0                0.0   \n",
       "4          1.1029632.1   6.412     197.0             0.0                0.0   \n",
       "\n",
       "         AN_mean  sites            NU     AC/NU  rate_pergen  \n",
       "0  550917.515152     33  2.356825e+06  0.000163     0.000826  \n",
       "1  549097.975309     81  6.197669e+06  0.008880     0.002179  \n",
       "2  550766.588235    136  9.307955e+06  0.004112     0.003263  \n",
       "3  552212.023810     84  3.845052e+06  0.005964     0.001344  \n",
       "4  552300.055556     90  3.541348e+06  0.002287     0.001238  "
      ]
     },
     "execution_count": 15,
     "metadata": {},
     "output_type": "execute_result"
    }
   ],
   "source": [
    "df_30.head()"
   ]
  },
  {
   "cell_type": "code",
   "execution_count": 19,
   "id": "d716109b",
   "metadata": {},
   "outputs": [],
   "source": [
    "df_30 = df_30.sort_values(\"AC/NU\")"
   ]
  },
  {
   "cell_type": "code",
   "execution_count": null,
   "id": "2ea104e4",
   "metadata": {},
   "outputs": [],
   "source": [
    "df_30[df_30[\"AC_total\"] != 0].median()"
   ]
  },
  {
   "cell_type": "code",
   "execution_count": 45,
   "id": "0c5b1ab5",
   "metadata": {},
   "outputs": [
    {
     "data": {
      "text/plain": [
       "2194903.190706349"
      ]
     },
     "execution_count": 45,
     "metadata": {},
     "output_type": "execute_result"
    }
   ],
   "source": [
    "df_30[\"NU\"].median()"
   ]
  },
  {
   "cell_type": "code",
   "execution_count": 14,
   "id": "3c0bc944",
   "metadata": {},
   "outputs": [
    {
     "data": {
      "text/plain": [
       "2832.447608479001"
      ]
     },
     "execution_count": 14,
     "metadata": {},
     "output_type": "execute_result"
    }
   ],
   "source": [
    "df_30[\"rate_pergen\"].sum()"
   ]
  },
  {
   "cell_type": "code",
   "execution_count": 16,
   "id": "5914313a",
   "metadata": {},
   "outputs": [
    {
     "data": {
      "text/plain": [
       "3219.0"
      ]
     },
     "execution_count": 16,
     "metadata": {},
     "output_type": "execute_result"
    }
   ],
   "source": [
    "df_30[\"denovo_an_case\"].sum()"
   ]
  },
  {
   "cell_type": "code",
   "execution_count": 17,
   "id": "2395974d",
   "metadata": {},
   "outputs": [
    {
     "data": {
      "text/plain": [
       "3128.0"
      ]
     },
     "execution_count": 17,
     "metadata": {},
     "output_type": "execute_result"
    }
   ],
   "source": [
    "df_30[\"denovo_an_control\"].sum()"
   ]
  },
  {
   "cell_type": "markdown",
   "id": "fdeb32ac",
   "metadata": {},
   "source": [
    "### let's get a distribution of AN for footprints"
   ]
  },
  {
   "cell_type": "code",
   "execution_count": 31,
   "id": "0130f5fa",
   "metadata": {},
   "outputs": [
    {
     "name": "stderr",
     "output_type": "stream",
     "text": [
      "/tmp/ipykernel_22857/2517124827.py:1: SettingWithCopyWarning: \n",
      "A value is trying to be set on a copy of a slice from a DataFrame.\n",
      "Try using .loc[row_indexer,col_indexer] = value instead\n",
      "\n",
      "See the caveats in the documentation: https://pandas.pydata.org/pandas-docs/stable/user_guide/indexing.html#returning-a-view-versus-a-copy\n",
      "  df_30['decile'] = pd.qcut(df_30['AC/NU'], 10, labels=False)\n"
     ]
    }
   ],
   "source": [
    "df_30['decile'] = pd.qcut(df_30['AC/NU'], 10, labels=False)\n"
   ]
  },
  {
   "cell_type": "code",
   "execution_count": 32,
   "id": "1b0650b1",
   "metadata": {},
   "outputs": [],
   "source": [
    "df_decile = df_30[[\"decile\", \"denovo_an_case\", \"denovo_an_control\", \"rate_pergen\"]].groupby(\"decile\").sum().reset_index()\n"
   ]
  },
  {
   "cell_type": "code",
   "execution_count": 35,
   "id": "bff756e3",
   "metadata": {},
   "outputs": [],
   "source": [
    "df_decile[\"ratio_affected\"] = df_decile[\"denovo_an_case\"]/df_decile[\"rate_pergen\"]\n",
    "df_decile[\"ratio_control\"] = df_decile[\"denovo_an_control\"]/df_decile[\"rate_pergen\"]"
   ]
  },
  {
   "cell_type": "code",
   "execution_count": 37,
   "id": "056e892a",
   "metadata": {},
   "outputs": [
    {
     "data": {
      "text/plain": [
       "<AxesSubplot:xlabel='decile', ylabel='ratio_affected'>"
      ]
     },
     "execution_count": 37,
     "metadata": {},
     "output_type": "execute_result"
    },
    {
     "data": {
      "image/png": "[encoded data removed]",
      "text/plain": [
       "<Figure size 640x480 with 1 Axes>"
      ]
     },
     "metadata": {},
     "output_type": "display_data"
    }
   ],
   "source": [
    "sns.barplot(df_decile, x=\"decile\", y=\"ratio_affected\")\n"
   ]
  },
  {
   "cell_type": "code",
   "execution_count": 38,
   "id": "8da151d4",
   "metadata": {},
   "outputs": [
    {
     "data": {
      "text/plain": [
       "<AxesSubplot:xlabel='decile', ylabel='ratio_control'>"
      ]
     },
     "execution_count": 38,
     "metadata": {},
     "output_type": "execute_result"
    },
    {
     "data": {
      "image/png": "[encoded data removed]",
      "text/plain": [
       "<Figure size 640x480 with 1 Axes>"
      ]
     },
     "metadata": {},
     "output_type": "display_data"
    }
   ],
   "source": [
    "sns.barplot(df_decile, x=\"decile\", y=\"ratio_control\")\n"
   ]
  },
  {
   "cell_type": "markdown",
   "id": "c05d9e65",
   "metadata": {},
   "source": [
    "## do it for a cutoff"
   ]
  },
  {
   "cell_type": "markdown",
   "id": "c130d63a",
   "metadata": {},
   "source": [
    "### top 1%"
   ]
  },
  {
   "cell_type": "code",
   "execution_count": 29,
   "id": "d39146f9",
   "metadata": {},
   "outputs": [],
   "source": [
    "length = len(df_30)\n",
    "cutoff = int(length * 0.01)\n",
    "\n",
    "df_30_cutoff = df_30.iloc[0:cutoff]"
   ]
  },
  {
   "cell_type": "code",
   "execution_count": 27,
   "id": "204733f0",
   "metadata": {},
   "outputs": [
    {
     "data": {
      "text/plain": [
       "2.038855103762443"
      ]
     },
     "execution_count": 27,
     "metadata": {},
     "output_type": "execute_result"
    }
   ],
   "source": [
    "df_30_cutoff[\"mu\"].mean()"
   ]
  },
  {
   "cell_type": "code",
   "execution_count": 43,
   "id": "62a2ecd5",
   "metadata": {},
   "outputs": [
    {
     "data": {
      "text/plain": [
       "6.007423447052999"
      ]
     },
     "execution_count": 43,
     "metadata": {},
     "output_type": "execute_result"
    }
   ],
   "source": [
    "df_30_cutoff[\"rate_pergen\"].sum()"
   ]
  },
  {
   "cell_type": "code",
   "execution_count": 31,
   "id": "632636a4",
   "metadata": {},
   "outputs": [
    {
     "data": {
      "text/plain": [
       "1.1144882733926862"
      ]
     },
     "execution_count": 31,
     "metadata": {},
     "output_type": "execute_result"
    }
   ],
   "source": [
    "df_30_cutoff[\"denovo_an_case\"].sum()/df_30_cutoff[\"rate_pergen\"].sum()"
   ]
  },
  {
   "cell_type": "code",
   "execution_count": 32,
   "id": "2aaba682",
   "metadata": {},
   "outputs": [
    {
     "data": {
      "text/plain": [
       "1.200218140576739"
      ]
     },
     "execution_count": 32,
     "metadata": {},
     "output_type": "execute_result"
    }
   ],
   "source": [
    "df_30_cutoff[\"denovo_an_control\"].sum()/df_30_cutoff[\"rate_pergen\"].sum()"
   ]
  },
  {
   "cell_type": "markdown",
   "id": "e8098e9c",
   "metadata": {},
   "source": [
    "### top 0.5%"
   ]
  },
  {
   "cell_type": "code",
   "execution_count": 34,
   "id": "15d66c52",
   "metadata": {},
   "outputs": [],
   "source": [
    "length = len(df_30)\n",
    "cutoff = int(length * 0.005)\n",
    "\n",
    "df_30_cutoff = df_30.iloc[0:cutoff]"
   ]
  },
  {
   "cell_type": "code",
   "execution_count": 35,
   "id": "fa3e4100",
   "metadata": {},
   "outputs": [
    {
     "data": {
      "text/plain": [
       "1.6646071461644008"
      ]
     },
     "execution_count": 35,
     "metadata": {},
     "output_type": "execute_result"
    }
   ],
   "source": [
    "df_30_cutoff[\"denovo_an_case\"].sum()/df_30_cutoff[\"rate_pergen\"].sum()"
   ]
  },
  {
   "cell_type": "code",
   "execution_count": 36,
   "id": "4b1fc444",
   "metadata": {},
   "outputs": [
    {
     "data": {
      "text/plain": [
       "1.6646071461644008"
      ]
     },
     "execution_count": 36,
     "metadata": {},
     "output_type": "execute_result"
    }
   ],
   "source": [
    "df_30_cutoff[\"denovo_an_control\"].sum()/df_30_cutoff[\"rate_pergen\"].sum()"
   ]
  },
  {
   "cell_type": "markdown",
   "id": "34e2e21b",
   "metadata": {},
   "source": [
    "## do mu cutoff too"
   ]
  },
  {
   "cell_type": "code",
   "execution_count": 37,
   "id": "df591731",
   "metadata": {},
   "outputs": [],
   "source": [
    "df_30_mu = df_30[df_30[\"mu\"] >= df_30[\"mu\"].mean()]"
   ]
  },
  {
   "cell_type": "code",
   "execution_count": 39,
   "id": "6a7b4b71",
   "metadata": {},
   "outputs": [],
   "source": [
    "length = len(df_30_mu)\n",
    "cutoff = int(length * 0.01)\n",
    "\n",
    "df_30_mu_cutoff = df_30_mu.iloc[0:cutoff]"
   ]
  },
  {
   "cell_type": "code",
   "execution_count": 44,
   "id": "cb972d71",
   "metadata": {},
   "outputs": [
    {
     "data": {
      "text/plain": [
       "12.259288865229"
      ]
     },
     "execution_count": 44,
     "metadata": {},
     "output_type": "execute_result"
    }
   ],
   "source": [
    "df_30_mu_cutoff[\"rate_pergen\"].sum()"
   ]
  },
  {
   "cell_type": "code",
   "execution_count": 40,
   "id": "37586de1",
   "metadata": {},
   "outputs": [
    {
     "data": {
      "text/plain": [
       "0.9788495998357278"
      ]
     },
     "execution_count": 40,
     "metadata": {},
     "output_type": "execute_result"
    }
   ],
   "source": [
    "df_30_mu_cutoff[\"denovo_an_case\"].sum()/df_30_mu_cutoff[\"rate_pergen\"].sum()"
   ]
  },
  {
   "cell_type": "code",
   "execution_count": 41,
   "id": "649b96b1",
   "metadata": {},
   "outputs": [
    {
     "data": {
      "text/plain": [
       "1.3051327997809705"
      ]
     },
     "execution_count": 41,
     "metadata": {},
     "output_type": "execute_result"
    }
   ],
   "source": [
    "df_30_mu_cutoff[\"denovo_an_control\"].sum()/df_30_mu_cutoff[\"rate_pergen\"].sum()"
   ]
  },
  {
   "cell_type": "code",
   "execution_count": 42,
   "id": "9ef76a40",
   "metadata": {},
   "outputs": [
    {
     "data": {
      "text/html": [
       "<div>\n",
       "<style scoped>\n",
       "    .dataframe tbody tr th:only-of-type {\n",
       "        vertical-align: middle;\n",
       "    }\n",
       "\n",
       "    .dataframe tbody tr th {\n",
       "        vertical-align: top;\n",
       "    }\n",
       "\n",
       "    .dataframe thead th {\n",
       "        text-align: right;\n",
       "    }\n",
       "</style>\n",
       "<table border=\"1\" class=\"dataframe\">\n",
       "  <thead>\n",
       "    <tr style=\"text-align: right;\">\n",
       "      <th></th>\n",
       "      <th>footprint_identifier</th>\n",
       "      <th>mu</th>\n",
       "      <th>AC_total</th>\n",
       "      <th>denovo_an_case</th>\n",
       "      <th>denovo_an_control</th>\n",
       "      <th>AN_mean</th>\n",
       "      <th>sites</th>\n",
       "      <th>NU</th>\n",
       "      <th>AC/NU</th>\n",
       "      <th>rate_pergen</th>\n",
       "    </tr>\n",
       "  </thead>\n",
       "  <tbody>\n",
       "    <tr>\n",
       "      <th>87386</th>\n",
       "      <td>9.8146706.2</td>\n",
       "      <td>9.680</td>\n",
       "      <td>0.0</td>\n",
       "      <td>0.0</td>\n",
       "      <td>0.0</td>\n",
       "      <td>552282.000000</td>\n",
       "      <td>168</td>\n",
       "      <td>5.346090e+06</td>\n",
       "      <td>0.00000</td>\n",
       "      <td>0.001869</td>\n",
       "    </tr>\n",
       "    <tr>\n",
       "      <th>87181</th>\n",
       "      <td>9.814103.4</td>\n",
       "      <td>5.290</td>\n",
       "      <td>0.0</td>\n",
       "      <td>0.0</td>\n",
       "      <td>0.0</td>\n",
       "      <td>552133.000000</td>\n",
       "      <td>96</td>\n",
       "      <td>2.920784e+06</td>\n",
       "      <td>0.00000</td>\n",
       "      <td>0.001021</td>\n",
       "    </tr>\n",
       "    <tr>\n",
       "      <th>128090</th>\n",
       "      <td>11.90125.2</td>\n",
       "      <td>5.474</td>\n",
       "      <td>0.0</td>\n",
       "      <td>0.0</td>\n",
       "      <td>0.0</td>\n",
       "      <td>552254.000000</td>\n",
       "      <td>78</td>\n",
       "      <td>3.023038e+06</td>\n",
       "      <td>0.00000</td>\n",
       "      <td>0.001057</td>\n",
       "    </tr>\n",
       "    <tr>\n",
       "      <th>86622</th>\n",
       "      <td>17.732326.2</td>\n",
       "      <td>7.788</td>\n",
       "      <td>0.0</td>\n",
       "      <td>0.0</td>\n",
       "      <td>0.0</td>\n",
       "      <td>552241.000000</td>\n",
       "      <td>48</td>\n",
       "      <td>4.300853e+06</td>\n",
       "      <td>0.00000</td>\n",
       "      <td>0.001503</td>\n",
       "    </tr>\n",
       "    <tr>\n",
       "      <th>13136</th>\n",
       "      <td>22.532186.4</td>\n",
       "      <td>5.074</td>\n",
       "      <td>0.0</td>\n",
       "      <td>0.0</td>\n",
       "      <td>0.0</td>\n",
       "      <td>552280.000000</td>\n",
       "      <td>72</td>\n",
       "      <td>2.802269e+06</td>\n",
       "      <td>0.00000</td>\n",
       "      <td>0.000980</td>\n",
       "    </tr>\n",
       "    <tr>\n",
       "      <th>...</th>\n",
       "      <td>...</td>\n",
       "      <td>...</td>\n",
       "      <td>...</td>\n",
       "      <td>...</td>\n",
       "      <td>...</td>\n",
       "      <td>...</td>\n",
       "      <td>...</td>\n",
       "      <td>...</td>\n",
       "      <td>...</td>\n",
       "      <td>...</td>\n",
       "    </tr>\n",
       "    <tr>\n",
       "      <th>70060</th>\n",
       "      <td>22.905375.7</td>\n",
       "      <td>5.556</td>\n",
       "      <td>7.0</td>\n",
       "      <td>0.0</td>\n",
       "      <td>0.0</td>\n",
       "      <td>552191.000000</td>\n",
       "      <td>39</td>\n",
       "      <td>3.067973e+06</td>\n",
       "      <td>0.00007</td>\n",
       "      <td>0.001073</td>\n",
       "    </tr>\n",
       "    <tr>\n",
       "      <th>96465</th>\n",
       "      <td>19.998398.4</td>\n",
       "      <td>6.482</td>\n",
       "      <td>6.0</td>\n",
       "      <td>0.0</td>\n",
       "      <td>0.0</td>\n",
       "      <td>552090.000000</td>\n",
       "      <td>60</td>\n",
       "      <td>3.578647e+06</td>\n",
       "      <td>0.00007</td>\n",
       "      <td>0.001251</td>\n",
       "    </tr>\n",
       "    <tr>\n",
       "      <th>136919</th>\n",
       "      <td>11.9416867.4</td>\n",
       "      <td>5.545</td>\n",
       "      <td>7.0</td>\n",
       "      <td>0.0</td>\n",
       "      <td>0.0</td>\n",
       "      <td>550985.121951</td>\n",
       "      <td>82</td>\n",
       "      <td>3.055213e+06</td>\n",
       "      <td>0.00007</td>\n",
       "      <td>0.001070</td>\n",
       "    </tr>\n",
       "    <tr>\n",
       "      <th>35451</th>\n",
       "      <td>10.303286.7</td>\n",
       "      <td>5.558</td>\n",
       "      <td>7.0</td>\n",
       "      <td>0.0</td>\n",
       "      <td>0.0</td>\n",
       "      <td>552274.020202</td>\n",
       "      <td>99</td>\n",
       "      <td>3.069539e+06</td>\n",
       "      <td>0.00007</td>\n",
       "      <td>0.001073</td>\n",
       "    </tr>\n",
       "    <tr>\n",
       "      <th>94132</th>\n",
       "      <td>17.786605.4</td>\n",
       "      <td>7.782</td>\n",
       "      <td>5.0</td>\n",
       "      <td>0.0</td>\n",
       "      <td>0.0</td>\n",
       "      <td>552244.822222</td>\n",
       "      <td>45</td>\n",
       "      <td>4.297569e+06</td>\n",
       "      <td>0.00007</td>\n",
       "      <td>0.001502</td>\n",
       "    </tr>\n",
       "  </tbody>\n",
       "</table>\n",
       "<p>11113 rows × 10 columns</p>\n",
       "</div>"
      ],
      "text/plain": [
       "       footprint_identifier     mu  AC_total  denovo_an_case  \\\n",
       "87386           9.8146706.2  9.680       0.0             0.0   \n",
       "87181            9.814103.4  5.290       0.0             0.0   \n",
       "128090           11.90125.2  5.474       0.0             0.0   \n",
       "86622           17.732326.2  7.788       0.0             0.0   \n",
       "13136           22.532186.4  5.074       0.0             0.0   \n",
       "...                     ...    ...       ...             ...   \n",
       "70060           22.905375.7  5.556       7.0             0.0   \n",
       "96465           19.998398.4  6.482       6.0             0.0   \n",
       "136919         11.9416867.4  5.545       7.0             0.0   \n",
       "35451           10.303286.7  5.558       7.0             0.0   \n",
       "94132           17.786605.4  7.782       5.0             0.0   \n",
       "\n",
       "        denovo_an_control        AN_mean  sites            NU    AC/NU  \\\n",
       "87386                 0.0  552282.000000    168  5.346090e+06  0.00000   \n",
       "87181                 0.0  552133.000000     96  2.920784e+06  0.00000   \n",
       "128090                0.0  552254.000000     78  3.023038e+06  0.00000   \n",
       "86622                 0.0  552241.000000     48  4.300853e+06  0.00000   \n",
       "13136                 0.0  552280.000000     72  2.802269e+06  0.00000   \n",
       "...                   ...            ...    ...           ...      ...   \n",
       "70060                 0.0  552191.000000     39  3.067973e+06  0.00007   \n",
       "96465                 0.0  552090.000000     60  3.578647e+06  0.00007   \n",
       "136919                0.0  550985.121951     82  3.055213e+06  0.00007   \n",
       "35451                 0.0  552274.020202     99  3.069539e+06  0.00007   \n",
       "94132                 0.0  552244.822222     45  4.297569e+06  0.00007   \n",
       "\n",
       "        rate_pergen  \n",
       "87386      0.001869  \n",
       "87181      0.001021  \n",
       "128090     0.001057  \n",
       "86622      0.001503  \n",
       "13136      0.000980  \n",
       "...             ...  \n",
       "70060      0.001073  \n",
       "96465      0.001251  \n",
       "136919     0.001070  \n",
       "35451      0.001073  \n",
       "94132      0.001502  \n",
       "\n",
       "[11113 rows x 10 columns]"
      ]
     },
     "execution_count": 42,
     "metadata": {},
     "output_type": "execute_result"
    }
   ],
   "source": [
    "df_30_mu_cutoff"
   ]
  },
  {
   "cell_type": "code",
   "execution_count": null,
   "id": "ae9cb591",
   "metadata": {},
   "outputs": [],
   "source": []
  }
 ],
 "metadata": {
  "kernelspec": {
   "display_name": "Python 3 (ipykernel)",
   "language": "python",
   "name": "python3"
  },
  "language_info": {
   "codemirror_mode": {
    "name": "ipython",
    "version": 3
   },
   "file_extension": ".py",
   "mimetype": "text/x-python",
   "name": "python",
   "nbconvert_exporter": "python",
   "pygments_lexer": "ipython3",
   "version": "3.9.18"
  }
 },
 "nbformat": 4,
 "nbformat_minor": 5
}
