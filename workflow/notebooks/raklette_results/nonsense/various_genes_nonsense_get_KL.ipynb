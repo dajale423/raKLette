{
 "cells": [
  {
   "cell_type": "code",
   "execution_count": 17,
   "id": "e9c86755",
   "metadata": {},
   "outputs": [],
   "source": [
    "import os\n",
    "import sys\n",
    "import numpy as np\n",
    "import pandas as pd\n",
    "import math\n",
    "import sys\n",
    "import pickle\n",
    "\n",
    "import torch\n",
    "import pyro\n",
    "import pyro.distributions as dist\n",
    "import pyro.distributions.constraints as constraints\n",
    "from pyro.nn import PyroModule\n",
    "from pyro.infer import Predictive\n",
    "\n",
    "from tqdm import tqdm\n",
    "from torch.utils.data import Dataset, DataLoader\n",
    "\n",
    "sys.path.insert(0, '/home/djl34/lab_pd/kl/git/KL/scripts')\n",
    "import raklette\n",
    "\n",
    "from run_raklette import run_raklette\n",
    "from run_raklette import TSVDataset\n",
    "import post_analysis\n",
    "from others import round_sig\n",
    "\n",
    "import seaborn as sns\n",
    "import matplotlib.pyplot as plt\n",
    "\n",
    "##############################################################################################################\n",
    "\n",
    "KL_data_dir = \"/home/djl34/lab_pd/kl/data\"\n",
    "scratch_dir = \"/n/scratch3/users/d/djl34\"\n",
    "\n",
    "base_set = [\"A\", \"C\", \"T\", \"G\"]\n",
    "chrom_set = [str(x) for x in range(1, 23)]\n",
    "\n",
    "file_directory = \"single_feature/nonsense/\"\n"
   ]
  },
  {
   "cell_type": "code",
   "execution_count": 2,
   "id": "9e23b36d",
   "metadata": {},
   "outputs": [
    {
     "name": "stderr",
     "output_type": "stream",
     "text": [
      "/home/djl34/mambaforge/envs/raklette/lib/python3.9/site-packages/distributed/node.py:182: UserWarning: Port 8787 is already in use.\n",
      "Perhaps you already have a cluster running?\n",
      "Hosting the HTTP server on port 36417 instead\n",
      "  warnings.warn(\n"
     ]
    }
   ],
   "source": [
    "client = Client()"
   ]
  },
  {
   "cell_type": "markdown",
   "id": "50f60bc1",
   "metadata": {},
   "source": [
    "## get beta"
   ]
  },
  {
   "cell_type": "code",
   "execution_count": 3,
   "id": "c0fd8e2a",
   "metadata": {},
   "outputs": [],
   "source": [
    "chrom_set = [\"22\"]\n",
    "chrom_set = [str(x) for x in range(1, 23)]\n",
    "\n",
    "\n",
    "header_name_list = [\"nonsense_below_5_pivot_\", \"nonsense_above_5_pivot_\"]\n",
    "\n",
    "# header = \"footprints_gene_\"\n",
    "\n",
    "covprior_list = [0.1]\n",
    "learning_rate_list = [0.01]\n",
    "interval_list = [\"\"]\n",
    "\n",
    "# sample_size = 100000000\n",
    "sample_size = -1\n",
    "\n",
    "chunksize = 1000000\n",
    "epoch = 800\n",
    "\n",
    "header_list = []\n",
    "\n",
    "def get_file_header(header, chrom, sample_size, lr, gamma, chunksize, epoch, cov_prior):\n",
    "    \n",
    "    if sample_size == -1:\n",
    "        return os.path.join(KL_data_dir, \"raklette_output/\" + file_directory + header + \"chr_\" + chrom + \"_chunksize_\" \n",
    "                            + str(chunksize) + \"_covonly_lr_\" + str(lr) + \"_gamma_\" + str(gamma) +\"_epoch_\" + \n",
    "                            str(epoch)+ \"_covprior_\" + str(cov_prior))\n",
    "    else:\n",
    "        return os.path.join(KL_data_dir, \"raklette_output/\" + file_directory + header  + \"sample_\"+ str(sample_size) \n",
    "                            + \"_chr_\" + chrom +\"_chunksize_\"+ \n",
    "                            str(chunksize) + \"_covonly_lr_\" + str(lr) + \"_gamma_\" + str(gamma) +\"_epoch_\" + \n",
    "                            str(epoch)+ \"_covprior_\" + str(cov_prior))\n",
    "    \n",
    "\n",
    "for header in header_name_list:\n",
    "    for interval in interval_list:\n",
    "        for prior in covprior_list:\n",
    "    #         print(prior)\n",
    "            for lrate in learning_rate_list:\n",
    "    #             print(lrate)\n",
    "                for chrom in chrom_set:\n",
    "                    lr, gamma, cov_prior, chrom = (lrate, 0.5, prior, chrom)\n",
    "\n",
    "                    file_header = get_file_header(header + interval , chrom, sample_size, lr, gamma, chunksize, epoch, cov_prior)\n",
    "\n",
    "                    header_list.append(file_header)"
   ]
  },
  {
   "cell_type": "markdown",
   "id": "91fdd25d",
   "metadata": {},
   "source": [
    "## check for fit"
   ]
  },
  {
   "cell_type": "code",
   "execution_count": 10,
   "id": "c91ebe3a",
   "metadata": {},
   "outputs": [],
   "source": [
    "file_header = header_list[-1]"
   ]
  },
  {
   "cell_type": "code",
   "execution_count": 4,
   "id": "32d0af71",
   "metadata": {
    "scrolled": true
   },
   "outputs": [
    {
     "data": {
      "image/png": "[encoded data removed]",
      "text/plain": [
       "<Figure size 1000x400 with 1 Axes>"
      ]
     },
     "metadata": {},
     "output_type": "display_data"
    }
   ],
   "source": [
    "with open(header_list[-1] + \".pkl\", 'rb') as handle:\n",
    "    dictionary = pickle.load(handle)"
   ]
  },
  {
   "cell_type": "code",
   "execution_count": 7,
   "id": "bb9198f7",
   "metadata": {},
   "outputs": [
    {
     "data": {
      "text/plain": [
       "dict_keys(['neut_sfs_full', 'beta_neut_full', 'ref_mu_ii', 'cov_sigma_prior', 'losses', 'fig'])"
      ]
     },
     "execution_count": 7,
     "metadata": {},
     "output_type": "execute_result"
    }
   ],
   "source": [
    "dictionary.keys()"
   ]
  },
  {
   "cell_type": "markdown",
   "id": "bff3cd90",
   "metadata": {},
   "source": [
    "## get_fit_values"
   ]
  },
  {
   "cell_type": "code",
   "execution_count": 41,
   "id": "c0ff19ea",
   "metadata": {},
   "outputs": [
    {
     "data": {
      "image/png": "[encoded data removed]",
      "text/plain": [
       "<Figure size 1000x400 with 1 Axes>"
      ]
     },
     "metadata": {},
     "output_type": "display_data"
    }
   ],
   "source": [
    "with open(file_header + \".pkl\", 'rb') as handle:\n",
    "    result = pickle.load(handle)\n",
    "\n",
    "dictionary = post_analysis.read_model(file_header)"
   ]
  },
  {
   "cell_type": "code",
   "execution_count": 44,
   "id": "21fef53e",
   "metadata": {},
   "outputs": [],
   "source": [
    "ref_mu_ii = result[\"ref_mu_ii\"]\n",
    "neut_sfs_full = result[\"neut_sfs_full\"]"
   ]
  },
  {
   "cell_type": "code",
   "execution_count": 19,
   "id": "4861f355",
   "metadata": {},
   "outputs": [
    {
     "data": {
      "text/plain": [
       "{'KL': <raklette.raklette_cov at 0x7ffaa8199a60>,\n",
       " 'model': <bound method raklette_cov.model of <raklette.raklette_cov object at 0x7ffaa8199a60>>,\n",
       " 'guide': AutoNormal(\n",
       "   (locs): PyroModule()\n",
       "   (scales): PyroModule()\n",
       " )}"
      ]
     },
     "execution_count": 19,
     "metadata": {},
     "output_type": "execute_result"
    }
   ],
   "source": [
    "dictionary"
   ]
  },
  {
   "cell_type": "code",
   "execution_count": 38,
   "id": "f1f2f0db",
   "metadata": {},
   "outputs": [],
   "source": [
    "KL = dictionary[\"KL\"]\n",
    "guide = dictionary[\"guide\"]\n",
    "\n",
    "beta_neut = KL.beta_neut\n",
    "beta_neut_full = KL.beta_neut_full\n",
    "beta_cov = guide.median()['beta_cov']\n",
    "beta_cov_trans = torch.cumsum(beta_cov, dim=-1)\n",
    "\n",
    "\n",
    "post_probs = raklette.softmax(raklette.pad(beta_neut - beta_cov_trans)).detach().numpy()"
   ]
  },
  {
   "cell_type": "code",
   "execution_count": 46,
   "id": "db2d21d8",
   "metadata": {},
   "outputs": [],
   "source": [
    "KL_fw_post = raklette.KL_fw(neut_sfs_full[ref_mu_ii,:].detach().numpy(), post_probs)\n",
    "KL_rv_post = raklette.KL_rv(neut_sfs_full[ref_mu_ii,:].detach().numpy(), post_probs)"
   ]
  },
  {
   "cell_type": "code",
   "execution_count": 48,
   "id": "81447007",
   "metadata": {},
   "outputs": [
    {
     "data": {
      "text/plain": [
       "array([0.01987982, 0.02021673, 0.10800179, 0.02740867, 0.05654879,\n",
       "       0.016029  , 0.0291259 , 0.06585588, 0.02670892, 0.04071067,\n",
       "       1.53351307, 0.01862996, 0.01680207, 0.32143578, 0.01508926,\n",
       "       0.01895785, 0.02700751, 0.01964703, 0.02526479, 0.023092  ,\n",
       "       0.02269134, 0.02880447, 1.71663053, 0.02222779, 0.04437924,\n",
       "       0.12077905, 0.06871852, 0.01695334, 0.02069917, 0.02398255,\n",
       "       0.02439254, 0.04946627, 0.04290475, 0.01213723, 0.05363019,\n",
       "       0.02129704, 0.17640795, 0.32792892, 0.02422573, 0.01335148,\n",
       "       0.02798665, 0.01376072, 0.02378938, 0.04618496, 0.58995172,\n",
       "       0.02196112, 0.02562051, 0.8580526 , 0.02336921, 2.96547367,\n",
       "       3.88036033, 0.01935492, 0.10874391, 0.0212574 , 0.01982872,\n",
       "       0.01707443, 1.6029192 , 0.0218121 , 0.02482533, 0.17891622,\n",
       "       0.30034878, 0.02215191, 0.02068392, 0.92578028, 1.9380707 ,\n",
       "       0.02758083, 0.02099223, 0.27517687, 0.03145825, 0.02492503,\n",
       "       0.0390739 , 0.08700557, 0.03050345, 0.02681051, 0.04828674,\n",
       "       0.0243128 , 0.03118657, 0.02060425, 0.04114221, 0.02782964,\n",
       "       0.02286501, 0.06269133, 0.02028822, 0.02102295, 1.43960357,\n",
       "       0.01650634, 0.01992679, 0.01521747, 0.01842844, 0.01786902,\n",
       "       0.07470345, 0.02256119, 0.02529053, 0.01257078, 0.02958753,\n",
       "       0.29979331, 0.02209506, 0.02438423, 0.02686929, 1.28381461,\n",
       "       0.08887861, 0.0279706 , 0.02540062, 0.02615908, 0.01346139,\n",
       "       0.02049766, 0.01761067, 0.01398393, 0.05304294, 0.02180422,\n",
       "       0.02345588, 0.01067233, 0.08897898, 0.02223579, 0.82063563,\n",
       "       0.02191431, 0.06764462, 0.03972248, 0.0257822 , 0.43614138,\n",
       "       0.01659511, 0.02017377, 0.04484834, 0.05231805, 0.02064513,\n",
       "       0.04740942, 0.02916374, 0.0174933 , 0.31659272, 0.0243557 ,\n",
       "       0.02433257, 0.01972764, 0.01513677, 0.01876277, 0.02004466,\n",
       "       0.33424447, 0.33581242, 0.1169527 , 0.18567916, 0.02091763,\n",
       "       0.01957232, 0.02246213, 0.01951666, 0.01843458, 0.02905131,\n",
       "       0.01837024, 0.02096067, 0.04525482, 0.03258013, 0.0249201 ,\n",
       "       0.51590534, 2.68656076, 0.03270724, 0.01448204, 0.01389721,\n",
       "       0.01949053, 0.0845283 ])"
      ]
     },
     "execution_count": 48,
     "metadata": {},
     "output_type": "execute_result"
    }
   ],
   "source": [
    "KL_fw_post"
   ]
  },
  {
   "cell_type": "code",
   "execution_count": 60,
   "id": "df3a1a20",
   "metadata": {},
   "outputs": [
    {
     "data": {
      "text/plain": [
       "(157,)"
      ]
     },
     "execution_count": 60,
     "metadata": {},
     "output_type": "execute_result"
    }
   ],
   "source": [
    "KL_rv_post.shape"
   ]
  },
  {
   "cell_type": "markdown",
   "id": "860432d7",
   "metadata": {},
   "source": [
    "## put it together into a pandas dataframe"
   ]
  },
  {
   "cell_type": "code",
   "execution_count": 49,
   "id": "6c9699f0",
   "metadata": {},
   "outputs": [],
   "source": [
    "filename = os.path.join(scratch_dir, \"kl_input/\" + file_directory + \"nonsense_above_5_pivot_chr_22.tsv\")\n",
    "df = pd.read_csv(filename, sep = \"\\t\")"
   ]
  },
  {
   "cell_type": "code",
   "execution_count": 59,
   "id": "e316d7d3",
   "metadata": {},
   "outputs": [
    {
     "data": {
      "text/html": [
       "<div>\n",
       "<style scoped>\n",
       "    .dataframe tbody tr th:only-of-type {\n",
       "        vertical-align: middle;\n",
       "    }\n",
       "\n",
       "    .dataframe tbody tr th {\n",
       "        vertical-align: top;\n",
       "    }\n",
       "\n",
       "    .dataframe thead th {\n",
       "        text-align: right;\n",
       "    }\n",
       "</style>\n",
       "<table border=\"1\" class=\"dataframe\">\n",
       "  <thead>\n",
       "    <tr style=\"text-align: right;\">\n",
       "      <th></th>\n",
       "      <th>Gene</th>\n",
       "      <th>KL_fw</th>\n",
       "      <th>KL_rv</th>\n",
       "    </tr>\n",
       "  </thead>\n",
       "  <tbody>\n",
       "    <tr>\n",
       "      <th>0</th>\n",
       "      <td>ENSG00000025708</td>\n",
       "      <td>0.019880</td>\n",
       "      <td>0.020466</td>\n",
       "    </tr>\n",
       "    <tr>\n",
       "      <th>1</th>\n",
       "      <td>ENSG00000040608</td>\n",
       "      <td>0.020217</td>\n",
       "      <td>0.021231</td>\n",
       "    </tr>\n",
       "    <tr>\n",
       "      <th>2</th>\n",
       "      <td>ENSG00000056487</td>\n",
       "      <td>0.108002</td>\n",
       "      <td>0.165152</td>\n",
       "    </tr>\n",
       "    <tr>\n",
       "      <th>3</th>\n",
       "      <td>ENSG00000069998</td>\n",
       "      <td>0.027409</td>\n",
       "      <td>0.029593</td>\n",
       "    </tr>\n",
       "    <tr>\n",
       "      <th>4</th>\n",
       "      <td>ENSG00000073146</td>\n",
       "      <td>0.056549</td>\n",
       "      <td>0.071472</td>\n",
       "    </tr>\n",
       "    <tr>\n",
       "      <th>...</th>\n",
       "      <td>...</td>\n",
       "      <td>...</td>\n",
       "      <td>...</td>\n",
       "    </tr>\n",
       "    <tr>\n",
       "      <th>152</th>\n",
       "      <td>ENSG00000244509</td>\n",
       "      <td>0.032707</td>\n",
       "      <td>0.034824</td>\n",
       "    </tr>\n",
       "    <tr>\n",
       "      <th>153</th>\n",
       "      <td>ENSG00000250479</td>\n",
       "      <td>0.014482</td>\n",
       "      <td>0.014762</td>\n",
       "    </tr>\n",
       "    <tr>\n",
       "      <th>154</th>\n",
       "      <td>ENSG00000251357</td>\n",
       "      <td>0.013897</td>\n",
       "      <td>0.014093</td>\n",
       "    </tr>\n",
       "    <tr>\n",
       "      <th>155</th>\n",
       "      <td>ENSG00000254709</td>\n",
       "      <td>0.019491</td>\n",
       "      <td>0.019728</td>\n",
       "    </tr>\n",
       "    <tr>\n",
       "      <th>156</th>\n",
       "      <td>ENSG00000273899</td>\n",
       "      <td>0.084528</td>\n",
       "      <td>0.106909</td>\n",
       "    </tr>\n",
       "  </tbody>\n",
       "</table>\n",
       "<p>157 rows × 3 columns</p>\n",
       "</div>"
      ],
      "text/plain": [
       "                Gene     KL_fw     KL_rv\n",
       "0    ENSG00000025708  0.019880  0.020466\n",
       "1    ENSG00000040608  0.020217  0.021231\n",
       "2    ENSG00000056487  0.108002  0.165152\n",
       "3    ENSG00000069998  0.027409  0.029593\n",
       "4    ENSG00000073146  0.056549  0.071472\n",
       "..               ...       ...       ...\n",
       "152  ENSG00000244509  0.032707  0.034824\n",
       "153  ENSG00000250479  0.014482  0.014762\n",
       "154  ENSG00000251357  0.013897  0.014093\n",
       "155  ENSG00000254709  0.019491  0.019728\n",
       "156  ENSG00000273899  0.084528  0.106909\n",
       "\n",
       "[157 rows x 3 columns]"
      ]
     },
     "execution_count": 59,
     "metadata": {},
     "output_type": "execute_result"
    }
   ],
   "source": [
    "df = pd.DataFrame(zip(list(df.columns[2:]), list(KL_fw_post), list(KL_rv_post)), columns = [\"Gene\", \"KL_fw\", \"KL_rv\"])"
   ]
  },
  {
   "cell_type": "code",
   "execution_count": 61,
   "id": "d0a00cca",
   "metadata": {},
   "outputs": [],
   "source": [
    "df = pd.read_csv(\"/home/djl34/lab_pd/kl/data/raklette_output/single_feature/nonsense/nonsense_above_5_pivot_chr_22_chunksize_1000000_covonly_lr_0.01_gamma_0.5_epoch_800_covprior_0.1_KL.tsv\", sep = \"\\t\")"
   ]
  },
  {
   "cell_type": "code",
   "execution_count": 62,
   "id": "a72c4cbb",
   "metadata": {},
   "outputs": [
    {
     "data": {
      "text/html": [
       "<div>\n",
       "<style scoped>\n",
       "    .dataframe tbody tr th:only-of-type {\n",
       "        vertical-align: middle;\n",
       "    }\n",
       "\n",
       "    .dataframe tbody tr th {\n",
       "        vertical-align: top;\n",
       "    }\n",
       "\n",
       "    .dataframe thead th {\n",
       "        text-align: right;\n",
       "    }\n",
       "</style>\n",
       "<table border=\"1\" class=\"dataframe\">\n",
       "  <thead>\n",
       "    <tr style=\"text-align: right;\">\n",
       "      <th></th>\n",
       "      <th>Gene</th>\n",
       "      <th>KL_fw</th>\n",
       "      <th>KL_rv</th>\n",
       "    </tr>\n",
       "  </thead>\n",
       "  <tbody>\n",
       "    <tr>\n",
       "      <th>0</th>\n",
       "      <td>ENSG00000025708</td>\n",
       "      <td>0.019880</td>\n",
       "      <td>0.020466</td>\n",
       "    </tr>\n",
       "    <tr>\n",
       "      <th>1</th>\n",
       "      <td>ENSG00000040608</td>\n",
       "      <td>0.020217</td>\n",
       "      <td>0.021231</td>\n",
       "    </tr>\n",
       "    <tr>\n",
       "      <th>2</th>\n",
       "      <td>ENSG00000056487</td>\n",
       "      <td>0.108002</td>\n",
       "      <td>0.165152</td>\n",
       "    </tr>\n",
       "    <tr>\n",
       "      <th>3</th>\n",
       "      <td>ENSG00000069998</td>\n",
       "      <td>0.027409</td>\n",
       "      <td>0.029593</td>\n",
       "    </tr>\n",
       "    <tr>\n",
       "      <th>4</th>\n",
       "      <td>ENSG00000073146</td>\n",
       "      <td>0.056549</td>\n",
       "      <td>0.071472</td>\n",
       "    </tr>\n",
       "    <tr>\n",
       "      <th>...</th>\n",
       "      <td>...</td>\n",
       "      <td>...</td>\n",
       "      <td>...</td>\n",
       "    </tr>\n",
       "    <tr>\n",
       "      <th>152</th>\n",
       "      <td>ENSG00000244509</td>\n",
       "      <td>0.032707</td>\n",
       "      <td>0.034824</td>\n",
       "    </tr>\n",
       "    <tr>\n",
       "      <th>153</th>\n",
       "      <td>ENSG00000250479</td>\n",
       "      <td>0.014482</td>\n",
       "      <td>0.014762</td>\n",
       "    </tr>\n",
       "    <tr>\n",
       "      <th>154</th>\n",
       "      <td>ENSG00000251357</td>\n",
       "      <td>0.013897</td>\n",
       "      <td>0.014093</td>\n",
       "    </tr>\n",
       "    <tr>\n",
       "      <th>155</th>\n",
       "      <td>ENSG00000254709</td>\n",
       "      <td>0.019491</td>\n",
       "      <td>0.019728</td>\n",
       "    </tr>\n",
       "    <tr>\n",
       "      <th>156</th>\n",
       "      <td>ENSG00000273899</td>\n",
       "      <td>0.084528</td>\n",
       "      <td>0.106909</td>\n",
       "    </tr>\n",
       "  </tbody>\n",
       "</table>\n",
       "<p>157 rows × 3 columns</p>\n",
       "</div>"
      ],
      "text/plain": [
       "                Gene     KL_fw     KL_rv\n",
       "0    ENSG00000025708  0.019880  0.020466\n",
       "1    ENSG00000040608  0.020217  0.021231\n",
       "2    ENSG00000056487  0.108002  0.165152\n",
       "3    ENSG00000069998  0.027409  0.029593\n",
       "4    ENSG00000073146  0.056549  0.071472\n",
       "..               ...       ...       ...\n",
       "152  ENSG00000244509  0.032707  0.034824\n",
       "153  ENSG00000250479  0.014482  0.014762\n",
       "154  ENSG00000251357  0.013897  0.014093\n",
       "155  ENSG00000254709  0.019491  0.019728\n",
       "156  ENSG00000273899  0.084528  0.106909\n",
       "\n",
       "[157 rows x 3 columns]"
      ]
     },
     "execution_count": 62,
     "metadata": {},
     "output_type": "execute_result"
    }
   ],
   "source": [
    "df"
   ]
  },
  {
   "cell_type": "code",
   "execution_count": null,
   "id": "0c4ec1c7",
   "metadata": {},
   "outputs": [],
   "source": []
  }
 ],
 "metadata": {
  "kernelspec": {
   "display_name": "Python 3 (ipykernel)",
   "language": "python",
   "name": "python3"
  },
  "language_info": {
   "codemirror_mode": {
    "name": "ipython",
    "version": 3
   },
   "file_extension": ".py",
   "mimetype": "text/x-python",
   "name": "python",
   "nbconvert_exporter": "python",
   "pygments_lexer": "ipython3",
   "version": "3.9.17"
  }
 },
 "nbformat": 4,
 "nbformat_minor": 5
}
