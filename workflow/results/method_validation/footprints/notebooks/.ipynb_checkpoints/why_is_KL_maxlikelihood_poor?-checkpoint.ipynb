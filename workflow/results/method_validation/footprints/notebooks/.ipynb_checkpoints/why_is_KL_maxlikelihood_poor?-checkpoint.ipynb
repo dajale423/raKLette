{
 "cells": [
  {
   "cell_type": "code",
   "execution_count": 1,
   "id": "87366bc9-a6e0-4ad2-844c-d674b17c1a90",
   "metadata": {},
   "outputs": [
    {
     "name": "stderr",
     "output_type": "stream",
     "text": [
      "/home/djl34/mambaforge/envs/raklette/lib/python3.9/site-packages/dask/dataframe/_pyarrow_compat.py:17: FutureWarning: Minimal version of pyarrow will soon be increased to 14.0.1. You are using 11.0.0. Please consider upgrading.\n",
      "  warnings.warn(\n"
     ]
    }
   ],
   "source": [
    "import sys\n",
    "sys.path.insert(0,'/home/djl34/kl_git/scripts')\n",
    "from notebook_imports import *"
   ]
  },
  {
   "cell_type": "code",
   "execution_count": 5,
   "id": "6e4c79dd-f952-4185-9ede-bf2b2338308a",
   "metadata": {},
   "outputs": [],
   "source": [
    "client = Client()"
   ]
  },
  {
   "cell_type": "code",
   "execution_count": 34,
   "id": "4672bae2-eb6a-4304-9ac7-c5fe995b81fd",
   "metadata": {},
   "outputs": [],
   "source": [
    "type = \"binary\"\n",
    "\n",
    "chrom = \"*\"\n",
    "filename = os.path.join(KL_data_dir, f\"results/footprints/zscore/{type}/{chrom}.tsv\")\n",
    "\n",
    "df = dd.read_csv(filename, sep = \"\\t\")\n",
    "\n",
    "denovo = [os.path.join(KL_data_dir, f\"results/footprints/denovo/{chrom}.tsv\") for chrom in all_chrom_set]\n",
    "df_denovo = dd.read_csv(denovo, sep = \"\\t\")"
   ]
  },
  {
   "cell_type": "code",
   "execution_count": 35,
   "id": "d78d8c57-52e3-4433-9f02-3c2f74650a45",
   "metadata": {},
   "outputs": [],
   "source": [
    "df = df.compute()\n",
    "df_denovo = df_denovo.compute()\n"
   ]
  },
  {
   "cell_type": "code",
   "execution_count": 37,
   "id": "403e139f-29e2-40e5-b7cb-a8de84a8afeb",
   "metadata": {
    "scrolled": true
   },
   "outputs": [],
   "source": [
    "# df = df.merge(df_denovo, on = \"footprint_identifier\", how = \"left\")\n",
    "df = df[df[\"sites\"] > 20]"
   ]
  },
  {
   "cell_type": "code",
   "execution_count": 38,
   "id": "42ab5fce-5115-42a9-bfca-325c1b8ceeae",
   "metadata": {},
   "outputs": [
    {
     "data": {
      "text/html": [
       "<div>\n",
       "<style scoped>\n",
       "    .dataframe tbody tr th:only-of-type {\n",
       "        vertical-align: middle;\n",
       "    }\n",
       "\n",
       "    .dataframe tbody tr th {\n",
       "        vertical-align: top;\n",
       "    }\n",
       "\n",
       "    .dataframe thead th {\n",
       "        text-align: right;\n",
       "    }\n",
       "</style>\n",
       "<table border=\"1\" class=\"dataframe\">\n",
       "  <thead>\n",
       "    <tr style=\"text-align: right;\">\n",
       "      <th></th>\n",
       "      <th>footprint_identifier</th>\n",
       "      <th>polymorphic</th>\n",
       "      <th>polymorphic_expected</th>\n",
       "      <th>sites</th>\n",
       "      <th>zscore_binary</th>\n",
       "    </tr>\n",
       "  </thead>\n",
       "  <tbody>\n",
       "    <tr>\n",
       "      <th>0</th>\n",
       "      <td>1.102814.27</td>\n",
       "      <td>13</td>\n",
       "      <td>9.109542</td>\n",
       "      <td>30</td>\n",
       "      <td>1.288998</td>\n",
       "    </tr>\n",
       "    <tr>\n",
       "      <th>1</th>\n",
       "      <td>1.102814.3</td>\n",
       "      <td>7</td>\n",
       "      <td>8.946010</td>\n",
       "      <td>33</td>\n",
       "      <td>-0.650624</td>\n",
       "    </tr>\n",
       "    <tr>\n",
       "      <th>2</th>\n",
       "      <td>1.102814.44</td>\n",
       "      <td>29</td>\n",
       "      <td>22.224545</td>\n",
       "      <td>81</td>\n",
       "      <td>1.437216</td>\n",
       "    </tr>\n",
       "    <tr>\n",
       "      <th>3</th>\n",
       "      <td>1.102814.47</td>\n",
       "      <td>42</td>\n",
       "      <td>35.749847</td>\n",
       "      <td>138</td>\n",
       "      <td>1.045330</td>\n",
       "    </tr>\n",
       "    <tr>\n",
       "      <th>4</th>\n",
       "      <td>1.102814.5</td>\n",
       "      <td>14</td>\n",
       "      <td>15.067262</td>\n",
       "      <td>49</td>\n",
       "      <td>-0.274950</td>\n",
       "    </tr>\n",
       "  </tbody>\n",
       "</table>\n",
       "</div>"
      ],
      "text/plain": [
       "  footprint_identifier  polymorphic  polymorphic_expected  sites  \\\n",
       "0          1.102814.27           13              9.109542     30   \n",
       "1           1.102814.3            7              8.946010     33   \n",
       "2          1.102814.44           29             22.224545     81   \n",
       "3          1.102814.47           42             35.749847    138   \n",
       "4           1.102814.5           14             15.067262     49   \n",
       "\n",
       "   zscore_binary  \n",
       "0       1.288998  \n",
       "1      -0.650624  \n",
       "2       1.437216  \n",
       "3       1.045330  \n",
       "4      -0.274950  "
      ]
     },
     "execution_count": 38,
     "metadata": {},
     "output_type": "execute_result"
    }
   ],
   "source": [
    "df.head()"
   ]
  },
  {
   "cell_type": "code",
   "execution_count": 40,
   "id": "008d3d26-d2f8-46c8-a3c3-a147e45b0d52",
   "metadata": {},
   "outputs": [],
   "source": [
    "column = \"zscore_binary\"\n",
    "\n",
    "df = df.sort_values(\"zscore_binary\", ascending = True)"
   ]
  },
  {
   "cell_type": "code",
   "execution_count": 33,
   "id": "fd7195c9-a7a6-43f8-b76f-cd38d7ae2443",
   "metadata": {},
   "outputs": [
    {
     "data": {
      "text/html": [
       "<div>\n",
       "<style scoped>\n",
       "    .dataframe tbody tr th:only-of-type {\n",
       "        vertical-align: middle;\n",
       "    }\n",
       "\n",
       "    .dataframe tbody tr th {\n",
       "        vertical-align: top;\n",
       "    }\n",
       "\n",
       "    .dataframe thead th {\n",
       "        text-align: right;\n",
       "    }\n",
       "</style>\n",
       "<table border=\"1\" class=\"dataframe\">\n",
       "  <thead>\n",
       "    <tr style=\"text-align: right;\">\n",
       "      <th></th>\n",
       "      <th>footprint_identifier</th>\n",
       "      <th>zscore_ac</th>\n",
       "      <th>mu</th>\n",
       "      <th>sites</th>\n",
       "    </tr>\n",
       "  </thead>\n",
       "  <tbody>\n",
       "    <tr>\n",
       "      <th>149016</th>\n",
       "      <td>5.798717.7</td>\n",
       "      <td>-2.070534</td>\n",
       "      <td>420.042</td>\n",
       "      <td>4690</td>\n",
       "    </tr>\n",
       "    <tr>\n",
       "      <th>149682</th>\n",
       "      <td>5.8015742.7</td>\n",
       "      <td>-1.990344</td>\n",
       "      <td>406.770</td>\n",
       "      <td>4473</td>\n",
       "    </tr>\n",
       "    <tr>\n",
       "      <th>149596</th>\n",
       "      <td>5.8014748.4</td>\n",
       "      <td>-1.805110</td>\n",
       "      <td>289.716</td>\n",
       "      <td>1197</td>\n",
       "    </tr>\n",
       "    <tr>\n",
       "      <th>149485</th>\n",
       "      <td>5.801256.4</td>\n",
       "      <td>-1.759467</td>\n",
       "      <td>319.716</td>\n",
       "      <td>918</td>\n",
       "    </tr>\n",
       "    <tr>\n",
       "      <th>149644</th>\n",
       "      <td>5.8015652.1</td>\n",
       "      <td>-1.693399</td>\n",
       "      <td>257.544</td>\n",
       "      <td>2100</td>\n",
       "    </tr>\n",
       "    <tr>\n",
       "      <th>149539</th>\n",
       "      <td>5.801421.1</td>\n",
       "      <td>-1.622852</td>\n",
       "      <td>228.912</td>\n",
       "      <td>741</td>\n",
       "    </tr>\n",
       "    <tr>\n",
       "      <th>149651</th>\n",
       "      <td>5.8015664.4</td>\n",
       "      <td>-1.591577</td>\n",
       "      <td>217.833</td>\n",
       "      <td>1344</td>\n",
       "    </tr>\n",
       "    <tr>\n",
       "      <th>149595</th>\n",
       "      <td>5.8014742.7</td>\n",
       "      <td>-1.591370</td>\n",
       "      <td>217.182</td>\n",
       "      <td>1323</td>\n",
       "    </tr>\n",
       "    <tr>\n",
       "      <th>149519</th>\n",
       "      <td>5.801406.7</td>\n",
       "      <td>-1.585323</td>\n",
       "      <td>281.713</td>\n",
       "      <td>3990</td>\n",
       "    </tr>\n",
       "    <tr>\n",
       "      <th>149013</th>\n",
       "      <td>5.798708.7</td>\n",
       "      <td>-1.577997</td>\n",
       "      <td>212.602</td>\n",
       "      <td>780</td>\n",
       "    </tr>\n",
       "  </tbody>\n",
       "</table>\n",
       "</div>"
      ],
      "text/plain": [
       "       footprint_identifier  zscore_ac       mu  sites\n",
       "149016           5.798717.7  -2.070534  420.042   4690\n",
       "149682          5.8015742.7  -1.990344  406.770   4473\n",
       "149596          5.8014748.4  -1.805110  289.716   1197\n",
       "149485           5.801256.4  -1.759467  319.716    918\n",
       "149644          5.8015652.1  -1.693399  257.544   2100\n",
       "149539           5.801421.1  -1.622852  228.912    741\n",
       "149651          5.8015664.4  -1.591577  217.833   1344\n",
       "149595          5.8014742.7  -1.591370  217.182   1323\n",
       "149519           5.801406.7  -1.585323  281.713   3990\n",
       "149013           5.798708.7  -1.577997  212.602    780"
      ]
     },
     "execution_count": 33,
     "metadata": {},
     "output_type": "execute_result"
    }
   ],
   "source": [
    "df[:10][[\"footprint_identifier\", \"zscore_ac\", \"mu\", \"sites\"]]"
   ]
  },
  {
   "cell_type": "code",
   "execution_count": null,
   "id": "e36b8ed6-30fb-4964-b1d7-fffb8196349f",
   "metadata": {},
   "outputs": [],
   "source": []
  }
 ],
 "metadata": {
  "kernelspec": {
   "display_name": "Python 3 (ipykernel)",
   "language": "python",
   "name": "python3"
  },
  "language_info": {
   "codemirror_mode": {
    "name": "ipython",
    "version": 3
   },
   "file_extension": ".py",
   "mimetype": "text/x-python",
   "name": "python",
   "nbconvert_exporter": "python",
   "pygments_lexer": "ipython3",
   "version": "3.9.18"
  }
 },
 "nbformat": 4,
 "nbformat_minor": 5
}
