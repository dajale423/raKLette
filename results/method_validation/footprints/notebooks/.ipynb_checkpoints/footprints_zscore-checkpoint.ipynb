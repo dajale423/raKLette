{
 "cells": [
  {
   "cell_type": "code",
   "execution_count": 2,
   "id": "f9e356d1",
   "metadata": {},
   "outputs": [
    {
     "name": "stderr",
     "output_type": "stream",
     "text": [
      "/home/djl34/mambaforge/envs/raklette/lib/python3.9/site-packages/dask/dataframe/_pyarrow_compat.py:17: FutureWarning: Minimal version of pyarrow will soon be increased to 14.0.1. You are using 11.0.0. Please consider upgrading.\n",
      "  warnings.warn(\n"
     ]
    }
   ],
   "source": [
    "import sys\n",
    "sys.path.insert(0,'/home/djl34/kl_git/scripts')\n",
    "from notebook_imports import *"
   ]
  },
  {
   "cell_type": "code",
   "execution_count": 3,
   "id": "fd3c6a98",
   "metadata": {},
   "outputs": [
    {
     "name": "stderr",
     "output_type": "stream",
     "text": [
      "/home/djl34/mambaforge/envs/raklette/lib/python3.9/site-packages/distributed/node.py:182: UserWarning: Port 8787 is already in use.\n",
      "Perhaps you already have a cluster running?\n",
      "Hosting the HTTP server on port 36832 instead\n",
      "  warnings.warn(\n"
     ]
    }
   ],
   "source": [
    "client = Client()"
   ]
  },
  {
   "cell_type": "code",
   "execution_count": 16,
   "id": "f65d5e57",
   "metadata": {},
   "outputs": [],
   "source": [
    "filename = os.path.join(KL_data_dir, \"results/footprints/zscore/denovo_results/AC/no_common.tsv\")"
   ]
  },
  {
   "cell_type": "code",
   "execution_count": 18,
   "id": "d2fb216a-8e66-4e9d-9e91-c041918764fc",
   "metadata": {},
   "outputs": [],
   "source": [
    "df = pd.read_csv(filename, sep = \"\\t\")"
   ]
  },
  {
   "cell_type": "code",
   "execution_count": 21,
   "id": "29f30a1d-98ef-4e11-9d32-d77091f43afd",
   "metadata": {},
   "outputs": [
    {
     "data": {
      "text/plain": [
       "[None]"
      ]
     },
     "execution_count": 21,
     "metadata": {},
     "output_type": "execute_result"
    },
    {
     "data": {
      "image/png": "[encoded data removed]",
      "text/plain": [
       "<Figure size 640x480 with 1 Axes>"
      ]
     },
     "metadata": {},
     "output_type": "display_data"
    }
   ],
   "source": [
    "g = sns.scatterplot(data=df, x=\"top\", y=\"Chi-squre statistics\")\n",
    "\n",
    "plt.axhline(y=15) \n",
    "\n",
    "g.set(xscale=\"log\")"
   ]
  },
  {
   "cell_type": "code",
   "execution_count": 23,
   "id": "67eca24a-3a98-4edf-85fb-91b47e540ccd",
   "metadata": {},
   "outputs": [
    {
     "data": {
      "text/plain": [
       "[None]"
      ]
     },
     "execution_count": 23,
     "metadata": {},
     "output_type": "execute_result"
    },
    {
     "data": {
      "image/png": "[encoded data removed]",
      "text/plain": [
       "<Figure size 640x480 with 1 Axes>"
      ]
     },
     "metadata": {},
     "output_type": "display_data"
    }
   ],
   "source": [
    "g = sns.scatterplot(data=df, x=\"top\", y=\"ratio\")\n",
    "g.set(xscale=\"log\")"
   ]
  },
  {
   "cell_type": "code",
   "execution_count": 19,
   "id": "423ad2da-5763-403a-af45-09ee6ebf1b21",
   "metadata": {},
   "outputs": [
    {
     "data": {
      "text/html": [
       "<div>\n",
       "<style scoped>\n",
       "    .dataframe tbody tr th:only-of-type {\n",
       "        vertical-align: middle;\n",
       "    }\n",
       "\n",
       "    .dataframe tbody tr th {\n",
       "        vertical-align: top;\n",
       "    }\n",
       "\n",
       "    .dataframe thead th {\n",
       "        text-align: right;\n",
       "    }\n",
       "</style>\n",
       "<table border=\"1\" class=\"dataframe\">\n",
       "  <thead>\n",
       "    <tr style=\"text-align: right;\">\n",
       "      <th></th>\n",
       "      <th>Unnamed: 0</th>\n",
       "      <th>ratio</th>\n",
       "      <th>Chi-squre statistics</th>\n",
       "      <th>P-value</th>\n",
       "      <th>average sites</th>\n",
       "      <th>average mu</th>\n",
       "      <th>top</th>\n",
       "    </tr>\n",
       "  </thead>\n",
       "  <tbody>\n",
       "    <tr>\n",
       "      <th>0</th>\n",
       "      <td>0</td>\n",
       "      <td>2.936637</td>\n",
       "      <td>2.868956</td>\n",
       "      <td>0.090303</td>\n",
       "      <td>523.732000</td>\n",
       "      <td>54.813105</td>\n",
       "      <td>1000</td>\n",
       "    </tr>\n",
       "    <tr>\n",
       "      <th>1</th>\n",
       "      <td>1</td>\n",
       "      <td>1.493499</td>\n",
       "      <td>2.052670</td>\n",
       "      <td>0.151940</td>\n",
       "      <td>278.646200</td>\n",
       "      <td>31.472750</td>\n",
       "      <td>5000</td>\n",
       "    </tr>\n",
       "    <tr>\n",
       "      <th>2</th>\n",
       "      <td>2</td>\n",
       "      <td>0.937406</td>\n",
       "      <td>0.100988</td>\n",
       "      <td>0.750647</td>\n",
       "      <td>225.567900</td>\n",
       "      <td>26.014795</td>\n",
       "      <td>10000</td>\n",
       "    </tr>\n",
       "    <tr>\n",
       "      <th>3</th>\n",
       "      <td>3</td>\n",
       "      <td>0.998357</td>\n",
       "      <td>0.000240</td>\n",
       "      <td>0.987641</td>\n",
       "      <td>146.180820</td>\n",
       "      <td>17.480777</td>\n",
       "      <td>50000</td>\n",
       "    </tr>\n",
       "    <tr>\n",
       "      <th>4</th>\n",
       "      <td>4</td>\n",
       "      <td>0.954777</td>\n",
       "      <td>0.302952</td>\n",
       "      <td>0.582037</td>\n",
       "      <td>123.131980</td>\n",
       "      <td>14.776087</td>\n",
       "      <td>100000</td>\n",
       "    </tr>\n",
       "    <tr>\n",
       "      <th>5</th>\n",
       "      <td>5</td>\n",
       "      <td>1.039833</td>\n",
       "      <td>0.568178</td>\n",
       "      <td>0.450984</td>\n",
       "      <td>83.087926</td>\n",
       "      <td>9.570640</td>\n",
       "      <td>500000</td>\n",
       "    </tr>\n",
       "    <tr>\n",
       "      <th>6</th>\n",
       "      <td>6</td>\n",
       "      <td>1.088598</td>\n",
       "      <td>3.265888</td>\n",
       "      <td>0.070735</td>\n",
       "      <td>71.815585</td>\n",
       "      <td>7.627686</td>\n",
       "      <td>1000000</td>\n",
       "    </tr>\n",
       "  </tbody>\n",
       "</table>\n",
       "</div>"
      ],
      "text/plain": [
       "   Unnamed: 0     ratio  Chi-squre statistics   P-value  average sites  \\\n",
       "0           0  2.936637              2.868956  0.090303     523.732000   \n",
       "1           1  1.493499              2.052670  0.151940     278.646200   \n",
       "2           2  0.937406              0.100988  0.750647     225.567900   \n",
       "3           3  0.998357              0.000240  0.987641     146.180820   \n",
       "4           4  0.954777              0.302952  0.582037     123.131980   \n",
       "5           5  1.039833              0.568178  0.450984      83.087926   \n",
       "6           6  1.088598              3.265888  0.070735      71.815585   \n",
       "\n",
       "   average mu      top  \n",
       "0   54.813105     1000  \n",
       "1   31.472750     5000  \n",
       "2   26.014795    10000  \n",
       "3   17.480777    50000  \n",
       "4   14.776087   100000  \n",
       "5    9.570640   500000  \n",
       "6    7.627686  1000000  "
      ]
     },
     "execution_count": 19,
     "metadata": {},
     "output_type": "execute_result"
    }
   ],
   "source": [
    "df"
   ]
  },
  {
   "cell_type": "code",
   "execution_count": null,
   "id": "fd693bf0-a259-47c3-8edd-8adfb2c2ff61",
   "metadata": {},
   "outputs": [],
   "source": []
  }
 ],
 "metadata": {
  "kernelspec": {
   "display_name": "Python 3 (ipykernel)",
   "language": "python",
   "name": "python3"
  },
  "language_info": {
   "codemirror_mode": {
    "name": "ipython",
    "version": 3
   },
   "file_extension": ".py",
   "mimetype": "text/x-python",
   "name": "python",
   "nbconvert_exporter": "python",
   "pygments_lexer": "ipython3",
   "version": "3.9.18"
  }
 },
 "nbformat": 4,
 "nbformat_minor": 5
}
